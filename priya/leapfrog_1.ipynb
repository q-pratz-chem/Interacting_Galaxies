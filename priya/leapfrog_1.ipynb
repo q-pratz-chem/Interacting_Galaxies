{
 "cells": [
  {
   "cell_type": "code",
   "execution_count": 1,
   "metadata": {},
   "outputs": [],
   "source": [
    "import numpy as np\n",
    "import math\n",
    "import matplotlib.pyplot as plt\n",
    "\n",
    "import astropy.units as u\n",
    "import astropy.constants as const\n"
   ]
  },
  {
   "cell_type": "markdown",
   "metadata": {},
   "source": [
    "$$F = \\frac{GMm}{r^2} \\hat{r} = \\frac{GMm}{r^3} \\overrightarrow{r}$$\n",
    "\n",
    "$$F_x = \\frac{GMm}{r^3}x, \\quad F_y = \\frac{GMm}{r^3}y $$\n",
    "\n",
    "$$ \\implies \\ddot{x} = \\frac{GM}{r^3}x, \\quad \\ddot{y} = \\frac{GM}{r^3}y $$\n",
    "\n",
    "$$ \\implies \\ddot{x} = \\frac{GM}{{\\sqrt{(x^2 + y^2)}}^3}x, \\quad \\ddot{y} = \\frac{GM}{{\\sqrt{(x^2 + y^2)}}^3}y $$\n",
    "\n",
    "$\\begin{split} \\text{Acceleration} \\quad f(x,y)  &:=  \\ddot{x}, \\ddot{y}\\\\ &= \\frac{GM}{{r_0}^3}x_0, \\frac{GM}{r_0^3}y_0, \\quad \\end{split}$ where $r_0 = \\sqrt{(x_0^2 + y_0^2)}$\n",
    "\n"
   ]
  },
  {
   "cell_type": "markdown",
   "metadata": {},
   "source": [
    "#### Steps in **Leapfrog** method:\n",
    "1. INPUT: $ \\quad r_0$  \n",
    "2. $\\phi_0 = - \\bigg(\\frac{p/r_0 - 1}{e} \\bigg)$, where $e$ is eccentricity.  \n",
    "3.$x_0 = r cos(\\phi_0), \\quad y_0 = r sin(\\phi_0)$\n",
    "4. INPUT:  \n",
    "$ \\quad v(t): \\quad v_{x_0}, v_{y_0}$  \n",
    "5. Get $v_{x_{mid}}, v_{y_{mid}}\\quad $  using  \n",
    "$\\quad v_{mid} = v\\bigg(t+ \\frac{h}{2}\\bigg)= v_0 + \\frac{h}{2}f(x_0, y_0),$      \n",
    "where $\\quad f(x_0, y_0) = \\frac{GM}{{r_0}^3}x_0, \\frac{GM}{r_0^3}y_0, \\quad $ $r_0 = \\sqrt{(x_0^2 + y_0^2)}$\n",
    "\n",
    "6. $x(t) = x_0, \\quad y(t) = y_0$\n",
    "7. UPDATE steps: \n",
    "\n",
    "     **for $k^{th}$ iteration** -->       \n",
    "$\\quad x(t+kh) = x_{k-1} + hv\\bigg(x_{k-1}, t+ \\bigg(k-\\frac{1}{2}\\bigg)h\\bigg), \\\\ \\quad y(t+kh) = y_{k-1} + hv\\bigg(y_{k-1}, t+ \\bigg(k-\\frac{1}{2}\\bigg)h\\bigg)$\n",
    "\n",
    "$\\quad v_x\\bigg(t+ \\bigg(k+\\frac{1}{2}\\bigg)h\\bigg) = v_x\\bigg(t+ \\bigg(k-\\frac{1}{2}\\bigg)h\\bigg) + hf\\bigg(x (t+kh), y(t+kh)\\bigg), \\\\ v_y\\bigg(t+ \\bigg(k+\\frac{1}{2}\\bigg)h\\bigg) = v_y\\bigg(t+ \\bigg(k-\\frac{1}{2}\\bigg)h\\bigg) + hf\\bigg(x (t+kh), y(t+kh)\\bigg)$\n",
    "\n",
    "\n"
   ]
  },
  {
   "cell_type": "code",
   "execution_count": 2,
   "metadata": {},
   "outputs": [],
   "source": [
    "## Two-body dynamics: setting up Leapfrog method"
   ]
  },
  {
   "cell_type": "code",
   "execution_count": 3,
   "metadata": {},
   "outputs": [],
   "source": [
    "def v_init(r, phi, **kwargs):\n",
    "    \"\"\"\n",
    "    Evaluate first time derivative of r, phi.\n",
    "    \n",
    "    Inputs: r -- 2D vector w/ elems r (separation) \n",
    "                 and phi (angle)\n",
    "    Returns: 2D array of functions v(theta) and v(omega) \n",
    "             evaluated at these points\n",
    "    \"\"\"\n",
    "        \n",
    "    r0 = r\n",
    "    phi0 = -np.arccos((p - r0)/(r0*ecc))\n",
    "    \n",
    "    # first derivative of (r0, phi0)\n",
    "    fphi0 = np.sqrt(G*m_rest*p)/r0**2 \n",
    "    fr = ecc*r0**2*np.sin(phi0)*fphi0/p\n",
    "\n",
    "    # starting veloicity of the second galaxy\n",
    "    vx0 = -r0*np.sin(phi0)*fphi0 + fr*np.cos(phi0)\n",
    "    vy0 = r0*np.cos(phi0)*fphi0 + fr*np.sin(phi0)\n",
    "\n",
    "    \n",
    "    return np.array([vx0, vy0], float)"
   ]
  },
  {
   "cell_type": "code",
   "execution_count": 4,
   "metadata": {},
   "outputs": [],
   "source": [
    "def f(rs, **kwargs):\n",
    "    \"\"\"\n",
    "    Evaluate the second derivative of the position vector in 2D.\n",
    "    \n",
    "    Inputs:  array with x-, y- components of the position vector\n",
    "    Returns: array of x-,y- components of acceleration \n",
    "             evaluated at these points\n",
    "    \"\"\"\n",
    "        \n",
    "    x, y = rs[0], rs[1]  \n",
    "    r = np.sqrt(x**2 + y**2)\n",
    "    \n",
    "    # x, y components of Acceleration 'a'\n",
    "    ax = G*m_rest*x/r**3    # m_rest: mass of the body at rest\n",
    "    ay = G*m_rest*y/r**3    \n",
    "    \n",
    "    return np.array([ax, ay], float)\n",
    "    "
   ]
  },
  {
   "cell_type": "code",
   "execution_count": 5,
   "metadata": {},
   "outputs": [],
   "source": [
    "def leapfrog(t0, tmax, r0, phi0, vx0, vy0, h, f, r_ref, dr_tol,  **kwargs):\n",
    "    \"\"\"                                                                                                                      \n",
    "    Calculate a soln x(t) to a 1st-order ODE of the form x'(t)=f(x,t).                                                 \n",
    "                                                                                                                             \n",
    "    Uses the leapfrog method.                                                                                \n",
    "    Inputs: \n",
    "    t0 & tmax (Init & final time) \n",
    "    r0 & phi0 (Init polar coordinates r & phi)\n",
    "    vx0 & vy0 (Init x- & y- components of velocity)\n",
    "    h (step size)\n",
    "    f (function to obtain derivatives: dr, dphi)\n",
    "    r_ref: expected value for r\n",
    "    dr_tol: amount of allowed deviation from r_ref\n",
    "    Returns: t and x (both arrays of size N=#steps)                                                                          \n",
    "    \"\"\"\n",
    "    \n",
    "    debug = False\n",
    "\n",
    "    \n",
    "    # Initialize arrays for time, position vector, & velocity vector\n",
    "    t = np.array(t0)\n",
    "    \n",
    "    x, y = r0*math.cos(phi0), r0*math.sin(phi0)\n",
    "    r = np.array([x, y], float)\n",
    "    R = np.array([r])\n",
    "\n",
    "    v0 = np.array([vx0, vy0])\n",
    "    v_ = np.array([v0], float) # Initial vx, vy\n",
    "\n",
    "    # Initialize ti, v_mid\n",
    "    ti = t0\n",
    "    v_mid = v0 + 0.5*h*v0  \n",
    "    \n",
    "    # Append initial v_mid\n",
    "    v_ = np.append(v_, np.array([v_mid]), axis=0)\n",
    "    \n",
    "    # Initialize steps for error check\n",
    "    r_check = np.sqrt(x**2 + y**2)\n",
    "    err = np.array([(r_ref - r_check)/r_ref])\n",
    "    print(r_ref- r_check)\n",
    "    \n",
    "    \n",
    "    # solve eqns of motion using leapfrog method\n",
    "    while np.abs(r_check - r_ref) < dr_tol:\n",
    "        # break if t = tmax\n",
    "        if ti > tmax:\n",
    "            if debug: print(f\"Time: {ti} > {tmax}\")\n",
    "            break\n",
    "        else:\n",
    "            # calculate y(t), y'(t)\n",
    "            if debug: print(ti, r, np.abs(r_check - r_ref))\n",
    "            err = np.append(err, (r_ref - r_check)/r_ref) # relative error\n",
    "            \n",
    "            # update t, r, v_mid\n",
    "            ti += h\n",
    "            #print(f(r), \"check\")\n",
    "            r += h*v_mid\n",
    "            v_mid += h*f(r) \n",
    "            \n",
    "            #update r_check\n",
    "            r_check = np.sqrt(r[0]**2 + r[1]**2)\n",
    "\n",
    "            # save t, r, phi_mid\n",
    "            t = np.append(t, ti)\n",
    "            R = np.append(R, np.array([r]), axis=0)\n",
    "            v_ = np.append(v_, np.array([v_mid]), axis=0)\n",
    "    \n",
    "    # components of cartesian coords\n",
    "    # R: [x, y]\n",
    "    X = R[:,0]\n",
    "    Y = R[:,1]\n",
    "    \n",
    "    return t, X, Y, v_, err\n"
   ]
  },
  {
   "cell_type": "code",
   "execution_count": 6,
   "metadata": {},
   "outputs": [],
   "source": [
    "# UNITS: kpc, Msun, Myr\n",
    "# constants\n",
    "G = (const.G).to(u.kpc**3 * u.Msun**-1 * u.Myr**-2).value # kpc^3/Msun/Myr\n",
    "\n",
    "# orbit parameters\n",
    "m0 = 1e12 # Msun\n",
    "m1 = 1e12 # Msun\n",
    "M = m0 + m1\n",
    "m_rest = m1\n",
    "\n",
    "a = 1 # (G*M*T**2/(4*np.pi**2))**(1/3)   # semi-major axis (kpc, Kepler's Law)\n",
    "ecc =  0.05 #1e-12 # 0.5\n",
    "p = a*(1 - ecc**2)   # semi-latus rectum (kpc)\n",
    "\n",
    "# runtime initial conditions\n",
    "t0, tmax = 0, 10\n",
    "h = 1e-3\n",
    "\n",
    "# starting position of second galaxy \n",
    "r0 = p   #for circular orbit\n",
    "phi0 = -np.arccos((p - r0)/(r0*ecc))\n",
    "    \n",
    "# starting veloicity of the second galaxy\n",
    "v0 = v_init(r0, phi0)\n",
    "vx0, vy0 = v0[0],v0[1]\n",
    "\n",
    "# make sure r is close to analytic value over time\n",
    "dr_tol = 1e-5  # allowable error \n"
   ]
  },
  {
   "cell_type": "code",
   "execution_count": 7,
   "metadata": {},
   "outputs": [
    {
     "name": "stdout",
     "output_type": "stream",
     "text": [
      "0.0024999999999999467\n"
     ]
    }
   ],
   "source": [
    "# leapfrog(t0, tmax,r0, phi0, h, f, r_ref, dr_tol,  **kwargs)\n",
    "t, X, Y, v_, err =  leapfrog(t0, tmax,r0, phi0, vx0, vy0, h, f, a, dr_tol)\n",
    "    "
   ]
  },
  {
   "cell_type": "code",
   "execution_count": 8,
   "metadata": {},
   "outputs": [
    {
     "data": {
      "image/png": "[encoded data removed]",
      "text/plain": [
       "<Figure size 432x288 with 1 Axes>"
      ]
     },
     "metadata": {
      "needs_background": "light"
     },
     "output_type": "display_data"
    }
   ],
   "source": [
    "plt.plot(X,Y);"
   ]
  },
  {
   "cell_type": "code",
   "execution_count": 9,
   "metadata": {},
   "outputs": [
    {
     "data": {
      "image/png": "[encoded data removed]",
      "text/plain": [
       "<Figure size 432x288 with 1 Axes>"
      ]
     },
     "metadata": {
      "needs_background": "light"
     },
     "output_type": "display_data"
    },
    {
     "data": {
      "image/png": "[encoded data removed]",
      "text/plain": [
       "<Figure size 432x288 with 1 Axes>"
      ]
     },
     "metadata": {
      "needs_background": "light"
     },
     "output_type": "display_data"
    }
   ],
   "source": [
    "# plt.plot(ts, v_[:,0], label=\"r'(t)\") # dq/dt\n",
    "# plt.plot(ts, v_[:,1] - v_[0,-1], label=r\"$\\phi'(t)$ residual\") # dq/dt\n",
    "plt.plot(v_[:,0], v_[:,1])\n",
    "plt.show()\n",
    "\n",
    "plt.plot(t, err, label='error')\n",
    "plt.show()\n",
    "#plt.hlines(np.array([-1,1])*1e-10, 0, 10,\n",
    "#           colors='grey',linestyle='--', label='tol')\n",
    "#plt.legend()"
   ]
  },
  {
   "cell_type": "code",
   "execution_count": 10,
   "metadata": {},
   "outputs": [
    {
     "ename": "NameError",
     "evalue": "name 'x' is not defined",
     "output_type": "error",
     "traceback": [
      "\u001b[0;31m---------------------------------------------------------------------------\u001b[0m",
      "\u001b[0;31mNameError\u001b[0m                                 Traceback (most recent call last)",
      "\u001b[0;32m/scratch/local/25652357/ipykernel_46777/3516040808.py\u001b[0m in \u001b[0;36m<module>\u001b[0;34m\u001b[0m\n\u001b[1;32m      1\u001b[0m \u001b[0mfig\u001b[0m \u001b[0;34m=\u001b[0m \u001b[0mplt\u001b[0m\u001b[0;34m.\u001b[0m\u001b[0mfigure\u001b[0m\u001b[0;34m(\u001b[0m\u001b[0mfigsize\u001b[0m\u001b[0;34m=\u001b[0m\u001b[0;34m(\u001b[0m\u001b[0;36m12\u001b[0m\u001b[0;34m,\u001b[0m\u001b[0;36m3\u001b[0m\u001b[0;34m)\u001b[0m\u001b[0;34m)\u001b[0m\u001b[0;34m\u001b[0m\u001b[0;34m\u001b[0m\u001b[0m\n\u001b[1;32m      2\u001b[0m \u001b[0max1\u001b[0m \u001b[0;34m=\u001b[0m \u001b[0mfig\u001b[0m\u001b[0;34m.\u001b[0m\u001b[0madd_subplot\u001b[0m\u001b[0;34m(\u001b[0m\u001b[0;36m131\u001b[0m\u001b[0;34m,\u001b[0m \u001b[0maspect\u001b[0m\u001b[0;34m=\u001b[0m\u001b[0;34m'equal'\u001b[0m\u001b[0;34m)\u001b[0m\u001b[0;34m\u001b[0m\u001b[0;34m\u001b[0m\u001b[0m\n\u001b[0;32m----> 3\u001b[0;31m \u001b[0max1\u001b[0m\u001b[0;34m.\u001b[0m\u001b[0mplot\u001b[0m\u001b[0;34m(\u001b[0m\u001b[0mx\u001b[0m\u001b[0;34m,\u001b[0m\u001b[0my\u001b[0m\u001b[0;34m)\u001b[0m\u001b[0;34m\u001b[0m\u001b[0;34m\u001b[0m\u001b[0m\n\u001b[0m\u001b[1;32m      4\u001b[0m \u001b[0max1\u001b[0m\u001b[0;34m.\u001b[0m\u001b[0mset_xlabel\u001b[0m\u001b[0;34m(\u001b[0m\u001b[0;34m\"x [kpc]\"\u001b[0m\u001b[0;34m)\u001b[0m\u001b[0;34m,\u001b[0m \u001b[0max1\u001b[0m\u001b[0;34m.\u001b[0m\u001b[0mset_ylabel\u001b[0m\u001b[0;34m(\u001b[0m\u001b[0;34m\"y [kpc]\"\u001b[0m\u001b[0;34m)\u001b[0m\u001b[0;34m\u001b[0m\u001b[0;34m\u001b[0m\u001b[0m\n\u001b[1;32m      5\u001b[0m \u001b[0;34m\u001b[0m\u001b[0m\n",
      "\u001b[0;31mNameError\u001b[0m: name 'x' is not defined"
     ]
    },
    {
     "data": {
      "image/png": "[encoded data removed]",
      "text/plain": [
       "<Figure size 864x216 with 1 Axes>"
      ]
     },
     "metadata": {
      "needs_background": "light"
     },
     "output_type": "display_data"
    }
   ],
   "source": [
    "fig = plt.figure(figsize=(12,3))\n",
    "ax1 = fig.add_subplot(131, aspect='equal')\n",
    "ax1.plot(x,y)\n",
    "ax1.set_xlabel(\"x [kpc]\"), ax1.set_ylabel(\"y [kpc]\")\n",
    "\n",
    "ax2 = fig.add_subplot(132, projection='polar')\n",
    "ax2.plot(R[:,1], R[:,0])\n",
    "ax2.set_xlabel(\"r [kpc]\")\n",
    "\n",
    "ax3 = fig.add_subplot(133,aspect='auto')\n",
    "ax3.scatter(ts, err, s=1)\n",
    "ax3.set_ylim(dr_tol*np.array([-1,1]))\n",
    "ax3.set_xlim([0,10])\n",
    "ax3.set_xlabel(\"time [Myr]\"), ax3.set_ylabel(\"relative error\")"
   ]
  },
  {
   "cell_type": "code",
   "execution_count": null,
   "metadata": {},
   "outputs": [],
   "source": [
    "np.mean(R[:,0])"
   ]
  },
  {
   "cell_type": "code",
   "execution_count": null,
   "metadata": {},
   "outputs": [],
   "source": []
  }
 ],
 "metadata": {
  "kernelspec": {
   "display_name": "UFRC Python-3.8",
   "language": "python",
   "name": "python3-3.8-ufrc"
  },
  "language_info": {
   "codemirror_mode": {
    "name": "ipython",
    "version": 3
   },
   "file_extension": ".py",
   "mimetype": "text/x-python",
   "name": "python",
   "nbconvert_exporter": "python",
   "pygments_lexer": "ipython3",
   "version": "3.8.5"
  }
 },
 "nbformat": 4,
 "nbformat_minor": 4
}
