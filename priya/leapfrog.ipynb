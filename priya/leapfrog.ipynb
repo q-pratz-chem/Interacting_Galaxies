{
 "cells": [
  {
   "cell_type": "code",
   "execution_count": 1,
   "metadata": {},
   "outputs": [],
   "source": [
    "import numpy as np\n",
    "import math\n",
    "import matplotlib.pyplot as plt\n",
    "\n",
    "import astropy.units as u\n",
    "import astropy.constants as const\n"
   ]
  },
  {
   "cell_type": "code",
   "execution_count": 2,
   "metadata": {},
   "outputs": [],
   "source": [
    "## Two-body dynamics: setting up Leapfrog method"
   ]
  },
  {
   "cell_type": "code",
   "execution_count": 3,
   "metadata": {},
   "outputs": [],
   "source": [
    "def f(rs, **kwargs):\n",
    "    \"\"\"\n",
    "    Function defining system of eqns of motion for a pendulum\n",
    "    \n",
    "    Inputs: r -- 2D vector w/ elems theta (angle) \n",
    "                 and omega (angular velocity)\n",
    "    Returns: 2D array of functions f(theta) and f(omega) \n",
    "             evaluated at these points\n",
    "    \"\"\"\n",
    "        \n",
    "    r, phi = rs[0], rs[1]    \n",
    "    \n",
    "    fphi = np.sqrt(G*M*p)/r**2 \n",
    "    fr = ecc*r**2*np.sin(phi)*fphi/p\n",
    "    \n",
    "    return np.array([fr, fphi], float)\n",
    "    "
   ]
  },
  {
   "cell_type": "code",
   "execution_count": null,
   "metadata": {},
   "outputs": [],
   "source": []
  },
  {
   "cell_type": "code",
   "execution_count": 4,
   "metadata": {},
   "outputs": [],
   "source": [
    "def leapfrog(t0, tmax,r0, phi0, h, f, r_ref, dr_tol,  **kwargs):\n",
    "    \"\"\"                                                                                                                      \n",
    "    Calculate a soln x(t) to a 1st-order ODE of the form x'(t)=f(x,t).                                                 \n",
    "                                                                                                                             \n",
    "    Uses the leapfrog method.                                                                                \n",
    "    Inputs: \n",
    "    t0 & tmax (Init & final time) \n",
    "    r0 & phi0 (Init polar coordinates r & phi)\n",
    "    h (step size)\n",
    "    f (function to obtain derivatives: dr, dphi)\n",
    "    r_ref: expected value for r\n",
    "    dr_tol: amount of allowed deviation from r_ref\n",
    "    Returns: t and x (both arrays of size N=#steps)                                                                          \n",
    "    \"\"\"\n",
    "    \n",
    "    debug = False\n",
    "    \n",
    "    # define t, r, and phi arrays\n",
    "    t = np.array(t0)\n",
    "    r = np.array([r0, phi0], float)\n",
    "    R = np.array([r])\n",
    "\n",
    "    v_ = np.array([])\n",
    "\n",
    "    # Initialize\n",
    "    ti = t0\n",
    "    v_mid = f(r) + 0.5*h*f(r)\n",
    "    \n",
    "    # Append initial values\n",
    "    v_ = np.array([v_mid])\n",
    "    \n",
    "    # Initialize steps for error check\n",
    "    r_check = r[0]\n",
    "    err = np.array([(r_ref - r_check)/r_ref])\n",
    "    \n",
    "    \n",
    "    # solve eqns of motion using leapfrog method\n",
    "    while np.abs(r_check - r_ref) < dr_tol:\n",
    "        # break if t = tmax\n",
    "        if ti > tmax:\n",
    "            if debug: print(f\"Time: {ti} > {tmax}\")\n",
    "            break\n",
    "        else:\n",
    "            # calculate y(t), y'(t)\n",
    "            if debug: print(ti, r, np.abs(r_check - r_ref))\n",
    "            err = np.append(err, (r_ref - r_check)/r_ref) # relative error\n",
    "            \n",
    "            # update t, r, phi_mid\n",
    "            ti += h\n",
    "            r += h*v_mid\n",
    "                        \n",
    "            #print(arr, arr.shape)\n",
    "            v_mid += h*f(r)\n",
    "            \n",
    "            #update r_check\n",
    "            r_check = r[0]\n",
    "\n",
    "            # save t, r, phi_mid\n",
    "            t = np.append(t, ti)\n",
    "            R = np.append(R, np.array([r]), axis=0)\n",
    "            v_ = np.append(v_, np.array([v_mid]), axis=0)\n",
    "            \n",
    "    # convert results to cartesian coords\n",
    "    # R: [r, phi]\n",
    "    x = R[:,0]*np.cos(R[:,1])  # r * cos phi\n",
    "    y = R[:,0]*np.sin(R[:,1])  # r * sin phi\n",
    "    \n",
    "    return t, R, v_, x, y, err\n"
   ]
  },
  {
   "cell_type": "code",
   "execution_count": 7,
   "metadata": {},
   "outputs": [],
   "source": [
    "# UNITS: kpc, Msun, Myr\n",
    "# constants\n",
    "G = (const.G).to(u.kpc**3 * u.Msun**-1 * u.Myr**-2).value # kpc^3/Msun/Myr\n",
    "\n",
    "# orbit parameters\n",
    "m0 = 1e12 # Msun\n",
    "m1 = 1e12 # Msun\n",
    "M = m0 + m1\n",
    "\n",
    "a = 1 # (G*M*T**2/(4*np.pi**2))**(1/3)   # semi-major axis (kpc, Kepler's Law)\n",
    "ecc = 1e-6 # 0.5\n",
    "p = a*(1 - ecc**2)   # semi-latus rectum (kpc)\n",
    "\n",
    "# runtime initial conditions\n",
    "t0, tmax = 0, 10\n",
    "h = 1e-3\n",
    "\n",
    "# starting position of second galaxy \n",
    "r0 = p   \n",
    "phi0 = -np.arccos((p - r0)/(r0*ecc))\n",
    "\n",
    "# make sure r is close to analytic value over time\n",
    "dr_tol = 1e-5  # allowable error \n"
   ]
  },
  {
   "cell_type": "code",
   "execution_count": 12,
   "metadata": {},
   "outputs": [],
   "source": [
    "# leapfrog(t0, tmax,r0, phi0, h, f, r_ref, dr_tol,  **kwargs)\n",
    "ts, R, v_, x, y, err =  leapfrog(t0, tmax,r0, phi0, h, f, a, dr_tol)\n",
    "    "
   ]
  },
  {
   "cell_type": "code",
   "execution_count": 13,
   "metadata": {},
   "outputs": [
    {
     "data": {
      "text/plain": [
       "(Text(0.5, 0, 'time [Myr]'), Text(0, 0.5, 'relative error'))"
      ]
     },
     "execution_count": 13,
     "metadata": {},
     "output_type": "execute_result"
    },
    {
     "data": {
      "image/png": "[encoded data removed]",
      "text/plain": [
       "<Figure size 864x216 with 3 Axes>"
      ]
     },
     "metadata": {
      "needs_background": "light"
     },
     "output_type": "display_data"
    }
   ],
   "source": [
    "fig = plt.figure(figsize=(12,3))\n",
    "ax1 = fig.add_subplot(131, aspect='equal')\n",
    "ax1.plot(x,y)\n",
    "ax1.set_xlabel(\"x [kpc]\"), ax1.set_ylabel(\"y [kpc]\")\n",
    "\n",
    "ax2 = fig.add_subplot(132, projection='polar')\n",
    "ax2.plot(R[:,1], R[:,0])\n",
    "ax2.set_xlabel(\"r [kpc]\")\n",
    "\n",
    "ax3 = fig.add_subplot(133,aspect='auto')\n",
    "ax3.scatter(ts, err, s=1)\n",
    "ax3.set_ylim(dr_tol*np.array([-1,1]))\n",
    "ax3.set_xlim([0,10])\n",
    "ax3.set_xlabel(\"time [Myr]\"), ax3.set_ylabel(\"relative error\")"
   ]
  },
  {
   "cell_type": "code",
   "execution_count": null,
   "metadata": {},
   "outputs": [],
   "source": []
  },
  {
   "cell_type": "code",
   "execution_count": null,
   "metadata": {},
   "outputs": [],
   "source": []
  }
 ],
 "metadata": {
  "kernelspec": {
   "display_name": "UFRC Python-3.8",
   "language": "python",
   "name": "python3-3.8-ufrc"
  },
  "language_info": {
   "codemirror_mode": {
    "name": "ipython",
    "version": 3
   },
   "file_extension": ".py",
   "mimetype": "text/x-python",
   "name": "python",
   "nbconvert_exporter": "python",
   "pygments_lexer": "ipython3",
   "version": "3.8.5"
  }
 },
 "nbformat": 4,
 "nbformat_minor": 4
}
