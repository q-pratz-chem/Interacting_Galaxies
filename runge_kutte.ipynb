{
 "cells": [
  {
   "cell_type": "code",
   "execution_count": 4,
   "metadata": {},
   "outputs": [],
   "source": [
    "# import packages\n",
    "import numpy as np\n",
    "import math\n",
    "import matplotlib.pyplot as plt\n",
    "\n",
    "import astropy.units as u\n",
    "import astropy.constants as const"
   ]
  },
  {
   "cell_type": "markdown",
   "metadata": {},
   "source": [
    "## Two-body dynamics: setting up Runge-Kutte method"
   ]
  },
  {
   "cell_type": "code",
   "execution_count": 12,
   "metadata": {},
   "outputs": [],
   "source": [
    "def f(rs, **kwargs):\n",
    "    \"\"\"\n",
    "    Evaluate the second derivative of the position vector in 2D.\n",
    "    \n",
    "    Inputs:  array with x-, y- components of the position vector\n",
    "    Returns: array of x-,y- components of acceleration \n",
    "             evaluated at these points\n",
    "    \"\"\"\n",
    "        \n",
    "    # position of mass1, mass2    \n",
    "    x1, y1 = rs[0], rs[1]  \n",
    "    x2, y2 = rs[2], rs[3] \n",
    "    r = np.sqrt((x2 - x1)**2 + (y2 - y1)**2)\n",
    "    \n",
    "    # x, y components of Acceleration a(t) = x''(t), which is also v'(t)\n",
    "    ax1 = G*m2*(x2 - x1)/r**3    \n",
    "    ay1 = G*m2*(y2 - y1)/r**3    \n",
    "    ax2 = G*m1*(x1 - x2)/r**3    \n",
    "    ay2 = G*m1*(y1 - y2)/r**3    \n",
    "    \n",
    "    return np.array([ax1, ay1, ax2, ay2], float)\n"
   ]
  },
  {
   "cell_type": "code",
   "execution_count": 13,
   "metadata": {},
   "outputs": [],
   "source": [
    "def get_f(r, f):\n",
    "    \"\"\"\n",
    "    Calculate updated x, y, vx, vy for each particle using a function \n",
    "        f(x,y,t) = v'(t)\n",
    "    \n",
    "    Inputs:\n",
    "        r, 1-D array [x1,y1,x2,y2,vx1, vy1, vx2, vy2]\n",
    "        \n",
    "    Returns:\n",
    "        fxy, 1-D array v(t), f(x,y,t)\n",
    "        \n",
    "    \"\"\"\n",
    "    \n",
    "    x1, y1 = r[0], r[1]\n",
    "    vx1, vy1 = r[4], r[5]\n",
    "    x2, y2 = r[2], r[3]\n",
    "    vx2, vy2 = r[6], r[7]\n",
    "    \n",
    "    fxy = np.array([vx1, vy1, vx2, vy2])\n",
    "    fv = f(np.array([x1, y1, x2, y2]))\n",
    "    \n",
    "    return np.array(np.concatenate([fxy, fv]))\n",
    "    "
   ]
  },
  {
   "cell_type": "code",
   "execution_count": 14,
   "metadata": {},
   "outputs": [],
   "source": [
    "def get_energy(r, vi):\n",
    "    \"\"\"\n",
    "    Calculate vis-viva energy for two masses\n",
    "    \n",
    "    Inputs:\n",
    "        r, 1-D array of (x1, y1, x2, y2)\n",
    "        vi, 1-D array of (vx1, vy1, vx2, vy2)\n",
    "    Returns:\n",
    "        energy, v**2/2 - mu/r\n",
    "    \n",
    "    \"\"\"\n",
    "    \n",
    "    x1, y1, x2, y2 = r\n",
    "    vx1, vy1, vx2, vy2 = vi\n",
    "    \n",
    "    r12 = np.sqrt((x2 - x1)**2 + (y2 - y1)**2)\n",
    "    v12 = np.sqrt((vx2 - vx1)**2 + (vy2 - vy1)**2)\n",
    "    \n",
    "    vve = 0.5*v12**2 - mu/r12  \n",
    "    E = 0.5*mu*v12**2 - G*m1*m2/r12\n",
    "    \n",
    "    return E\n",
    "    "
   ]
  },
  {
   "cell_type": "code",
   "execution_count": 15,
   "metadata": {},
   "outputs": [],
   "source": [
    "def get_err(truth, computed):\n",
    "    \"\"\"Calculate relative error\"\"\"\n",
    "    if truth == 0.:\n",
    "        print(\"using alt err\")\n",
    "        err = truth - computed\n",
    "    else: \n",
    "        err = (truth - computed)/truth\n",
    "    return err"
   ]
  },
  {
   "cell_type": "code",
   "execution_count": 83,
   "metadata": {},
   "outputs": [],
   "source": [
    "def rk4(t0, tmax, r0, phi0, dphi0, dr0, f, h, err_tol):\n",
    "    \"\"\"\n",
    "    Calculate orbit of a body about center of mass using 4th-order Runge-Kutte\n",
    "    method.\n",
    "    \n",
    "    Inputs:\n",
    "      t0, tmax: start, end time of simulation, Myr\n",
    "      r0, phi0: initial position, angle of reduced mass, mu\n",
    "      dphi0, dr0: initial angular, radial velocity of mu\n",
    "      f: function for getting vx', vy'\n",
    "      h: time interval\n",
    "      err_tol: amount of allowed deviation from r_ref\n",
    "    \n",
    "    Returns:\n",
    "      R: 2-D array of x1,y1,x2,y2 coordinates at each step\n",
    "      err: relative error of total Energy of system\n",
    "      \n",
    "    \"\"\"\n",
    "    \n",
    "    # Initialize arrays for time, position vector, & velocity vector\n",
    "    ti = t0\n",
    "    t = np.array(ti)\n",
    "    \n",
    "    x0 = r0 * np.cos(phi0)\n",
    "    y0 = r0 * np.sin(phi0)\n",
    "    vx0 = -r0 * np.sin(phi0)*dphi0 + np.cos(phi0)*dr0\n",
    "    vy0 = r0 * np.cos(phi0)*dphi0 + np.sin(phi0)*dr0\n",
    "    \n",
    "    # convert from one-body reduced-mass to two-body problem\n",
    "    x1, y1 = (mu/m1)*x0, (mu/m1)*y0 \n",
    "    x2, y2 = -(mu / m2)*x0, -(mu / m2)*y0 \n",
    "    vx1, vy1 = (mu/m1)*vx0, (mu/m1)*vy0 \n",
    "    vx2, vy2 = -(mu / m2)*vx0, -(mu / m2)*vy0 \n",
    "     \n",
    "    # initialize arrays of positions at each step\n",
    "    ri = np.array([x1, y1, x2, y2], float)\n",
    "    \n",
    "    # initialize arrays of velocities at each step\n",
    "    vinit = np.array([vx1, vy1, vx2, vy2], float)\n",
    "    vi = vinit\n",
    "    v_ = np.array([vi]) # Initial vx, vy\n",
    "    \n",
    "    # initialize position-velocity mega-vector\n",
    "    r = np.concatenate([ri,vi])\n",
    "    R = np.array([r])\n",
    "    \n",
    "    debug = False\n",
    "    \n",
    "#     # Initialize steps for error check for circular orbit\n",
    "#     r_check = np.sqrt(r[0]**2 + r[1]**2)  # current radius, r\n",
    "#     rel_err = (r_ref - r_check)/r_ref\n",
    "\n",
    "    # track relative error between initial Energy, calculated Energy \n",
    "    E_now = get_energy(ri, vi)\n",
    "    # total energy of system, E = KE + PE\n",
    "    E_ref = 0.5*mu*(vx0**2 + vy0**2) - G*m1*m2/r0\n",
    "    \n",
    "    rel_err = get_err(E_ref, E_now)\n",
    "    #print(f\"t=0: E_ref: {E_ref}, rel_err: {rel_err}\")\n",
    "    err = np.array([rel_err])\n",
    "    global E\n",
    "    E = np.array([E_now])\n",
    "    \n",
    "    # solve eqns of motion using R-K method\n",
    "    while np.abs(rel_err) < err_tol:\n",
    "        # break if t = tmax\n",
    "        if ti > tmax:\n",
    "            if debug: print(f\"Time: {ti} > {tmax}\")\n",
    "            break\n",
    "        else:\n",
    "            # calculate r(t), r'(t)\n",
    "            \n",
    "            # compute k1, k2, k3, k4 for r\n",
    "            k1  = h*get_f(r, f)\n",
    "            k2 = h*get_f(r + k1*0.5, f) \n",
    "            k3 = h*get_f(r + k2*0.5, f) \n",
    "            k4 = h*get_f(r + k3, f)  \n",
    "\n",
    "            # update ti, Ri\n",
    "            ti += h\n",
    "            r += (1/6)*(k1 + 2*k2 + 2*k3 + k4)\n",
    "\n",
    "            # calculate new rel error\n",
    "            rel_err = get_err(E_ref, get_energy(r[:4], r[4:]))\n",
    "\n",
    "            # save new ri to r\n",
    "            t = np.append(t, ti)\n",
    "            R = np.append(R, np.array([r]), axis=0)\n",
    "            err = np.append(err, rel_err) # relative error\n",
    "            E = np.append(E, get_energy(r[:4], r[4:]))  # total energy\n",
    "            \n",
    "    # components of cartesian coords\n",
    "    # R: [x1, x2, y1, y2]\n",
    "    X = R[:,[0,2]]  # x1, x2\n",
    "    Y = R[:,[1,3]]  # y1, y2\n",
    "    # show error\n",
    "    print(f\"E_ref = {E_ref}, |mean(E)| = {np.abs(np.mean(E))}\")\n",
    "    \n",
    "    return t, X, Y, err\n"
   ]
  },
  {
   "cell_type": "code",
   "execution_count": 101,
   "metadata": {},
   "outputs": [
    {
     "name": "stdout",
     "output_type": "stream",
     "text": [
      "parabolic orbit\n",
      "initial r0, phi0: 50.0 kpc, 1.5708 rad\n"
     ]
    }
   ],
   "source": [
    "# runtime initial conditions\n",
    "t0, tmax = 0, 800 # 5000\n",
    "h = 1 # 1e-3 Myr\n",
    "\n",
    "# UNITS: kpc, Msun, Myr\n",
    "# constants\n",
    "G = (const.G).to(u.kpc**3 * u.Msun**-1 * u.Myr**-2).value # kpc^3/Msun/Myr\n",
    "\n",
    "# orbit parameters\n",
    "m1 = 1e12 # Msun\n",
    "m2 = 1e12 # Msun\n",
    "M = m1 + m2\n",
    "mu = m1*m2 / M\n",
    "\n",
    "# can get a = (G*M*T**2/(4*np.pi**2))**(1/3)\n",
    "rmin = 25 # kpc\n",
    "a = rmin   # semi-major axis (kpc, Kepler's Law)\n",
    "ecc = 1. # 0.5\n",
    "\n",
    "# define values for p, error calculation\n",
    "if ecc == 1.:      # parabolic orbit\n",
    "    print(\"parabolic orbit\")\n",
    "    p = 2 * rmin  \n",
    "    err_tol = 1e10  # arbitrary value because E = 0\n",
    "elif (ecc > 0.) & (ecc < 1.): # closed orbit, elliptical\n",
    "    print(\"elliptical orbit\")\n",
    "    p = a * (1 - ecc**2)\n",
    "    err_tol = 1e-5\n",
    "else: # closed orbit, circular\n",
    "    print(\"circular orbit\")\n",
    "    p = a\n",
    "    err_tol = 1e-5\n",
    "\n",
    "\n",
    "# choose initial position, motion of reduced-mass galaxy pair relative to \n",
    "#    semi-major axis or axis of closest approach\n",
    "phi0 = 0.5*np.pi # np.pi*(2*np.random.rand() - 1) \n",
    "r0 = p / (1 + ecc * np.cos(phi0))\n",
    "dphi0 = np.sqrt(G*M*p) / r0**2\n",
    "dr0 = ecc * r0**2 * np.sin(phi0) * dphi0 / p\n",
    "\n",
    "print(f\"initial r0, phi0: {r0:.5} kpc, {phi0:.5} rad\")"
   ]
  },
  {
   "cell_type": "code",
   "execution_count": 97,
   "metadata": {},
   "outputs": [
    {
     "name": "stdout",
     "output_type": "stream",
     "text": [
      "E_ref = 1.52587890625e-05, |mean(E)| = 6.405823384050255\n",
      "runtime: 801 kpc\n"
     ]
    }
   ],
   "source": [
    "t, X, Y, err = rk4(t0, tmax, r0, phi0, dphi0, dr0, f, h, err_tol)\n",
    "print(f\"runtime: {t[-1]} kpc\")"
   ]
  },
  {
   "cell_type": "code",
   "execution_count": 98,
   "metadata": {},
   "outputs": [
    {
     "data": {
      "text/plain": [
       "[<matplotlib.lines.Line2D at 0x2b7fca936dc0>]"
      ]
     },
     "execution_count": 98,
     "metadata": {},
     "output_type": "execute_result"
    },
    {
     "data": {
      "image/png": "[encoded data removed]",
      "text/plain": [
       "<Figure size 432x288 with 1 Axes>"
      ]
     },
     "metadata": {
      "needs_background": "light"
     },
     "output_type": "display_data"
    }
   ],
   "source": [
    "plt.plot(E)"
   ]
  },
  {
   "cell_type": "code",
   "execution_count": 99,
   "metadata": {},
   "outputs": [
    {
     "name": "stdout",
     "output_type": "stream",
     "text": [
      "error at 801 Myr: 4.34782e+05 kpc\n"
     ]
    },
    {
     "data": {
      "image/png": "[encoded data removed]",
      "text/plain": [
       "<Figure size 864x360 with 2 Axes>"
      ]
     },
     "metadata": {
      "needs_background": "light"
     },
     "output_type": "display_data"
    }
   ],
   "source": [
    "fig = plt.figure(figsize=(12,5))\n",
    "ax1 = fig.add_subplot(121, aspect='auto')\n",
    "# ax1.scatter(X[:,0], Y[:,0], s=1, label=\"m1\")\n",
    "# ax1.scatter(X[:,1], Y[:,1], s=1, label=\"m2\")\n",
    "plt.scatter(0,0, marker='x', color='grey', alpha=0.5, label=r'CoM')\n",
    "plt.scatter(X[0,0], Y[0,0], s=10, c='steelblue') # initial position\n",
    "plt.scatter(X[0,1], Y[0,1], s=10, c='orange') # initial position\n",
    "plt.plot(X[:,0], Y[:,0], label=f\"m1 = {m1:.3} Msun\")\n",
    "plt.plot(X[:,1], Y[:,1], label=f\"m2 = {m2:.3} Msun\")\n",
    "ax1.set_xlabel(\"x [kpc]\"), ax1.set_ylabel(\"y [kpc]\")\n",
    "plt.legend(loc='lower right')\n",
    "\n",
    "ax2 = fig.add_subplot(122,aspect='auto')\n",
    "ax2.scatter(t, err, s=1)\n",
    "#ax2.set_ylim(err_tol*np.array([-1,1]))\n",
    "ax2.set_xlabel(\"time [Myr]\"), ax2.set_ylabel(\"relative error\")\n",
    "print(f\"error at {t[-1]} Myr: {err[-1]:.6} kpc\")"
   ]
  },
  {
   "cell_type": "code",
   "execution_count": null,
   "metadata": {},
   "outputs": [],
   "source": []
  }
 ],
 "metadata": {
  "kernelspec": {
   "display_name": "UFRC Python-3.8",
   "language": "python",
   "name": "python3-3.8-ufrc"
  },
  "language_info": {
   "codemirror_mode": {
    "name": "ipython",
    "version": 3
   },
   "file_extension": ".py",
   "mimetype": "text/x-python",
   "name": "python",
   "nbconvert_exporter": "python",
   "pygments_lexer": "ipython3",
   "version": "3.8.5"
  }
 },
 "nbformat": 4,
 "nbformat_minor": 4
}
