{
 "cells": [
  {
   "cell_type": "code",
   "execution_count": 1,
   "metadata": {},
   "outputs": [],
   "source": [
    "import numpy as np\n",
    "import math\n",
    "import matplotlib.pyplot as plt\n",
    "\n",
    "import astropy.units as u\n",
    "import astropy.constants as const\n"
   ]
  },
  {
   "cell_type": "code",
   "execution_count": 2,
   "metadata": {},
   "outputs": [],
   "source": [
    "## Two-body dynamics: setting up Leapfrog method"
   ]
  },
  {
   "cell_type": "code",
   "execution_count": 3,
   "metadata": {},
   "outputs": [],
   "source": [
    "def f(rs, **kwargs):\n",
    "    \"\"\"\n",
    "    Evaluate the second derivative of the position vector in 2D.\n",
    "    \n",
    "    Inputs:  array with x-, y- components of the position vector\n",
    "    Returns: array of x-,y- components of acceleration \n",
    "             evaluated at these points\n",
    "    \"\"\"\n",
    "    # position of mass1, mass2    \n",
    "    x1, y1 = rs[0], rs[1]  \n",
    "    x2, y2 = rs[2], rs[3] \n",
    "    r = np.sqrt((x2 - x1)**2 + (y2 - y1)**2)\n",
    "    \n",
    "    # x, y components of Acceleration 'a'\n",
    "    ax1 = G*m2*(x2 - x1)/r**3    \n",
    "    ay1 = G*m2*(y2 - y1)/r**3    \n",
    "    ax2 = G*m1*(x1 - x2)/r**3    \n",
    "    ay2 = G*m1*(y1 - y2)/r**3    \n",
    "    \n",
    "    return np.array([ax1, ay1, ax2, ay2], float)\n",
    "    "
   ]
  },
  {
   "cell_type": "markdown",
   "metadata": {},
   "source": [
    "Reference: [A Simple Leapfrog Integration Scheme to Find Optimal Interplanetary Trajectories by Scott M. Kelley](https://ir.library.oregonstate.edu/downloads/cc08hm643)https://ir.library.oregonstate.edu/downloads/cc08hm643)\n",
    "\n",
    "The basic equations of motion of the leapfrog integration scheme are\n",
    "\n",
    "$$r_{i+1} = r_i + v_{i+\\frac{1}{2}} \\Delta t \\\\\n",
    "v_{i+\\frac{1}{2}} = v_{i-\\frac{1}{2}} + a_i \\Delta t. $$\n",
    "\n",
    "This system of equations can be rewritten without the explicit use of half-steps by first\n",
    "expressing the velocity term for a full step in two distinct half-steps\n",
    "\n",
    "$$v_{i+\\frac{1}{2}} = v_{i-\\frac{1}{2}} + a_i \\Delta t \\\\\n",
    "v_{i+1} = v_{i+\\frac{1}{2}} + \\frac{a_{i+1}}{2} \\Delta t. $$\n",
    "\n",
    "Combining above equations allows the equations of motion to be written strictly in terms of integer timesteps:\n",
    "\n",
    "$$r_{i+1} = r_i + v_i \\Delta t + \\frac{a_i}{2}\\Delta t^2 \\\\\n",
    "v_{i+1} = v_i + \\frac{(a_i + a_{i+1})}{2} \\Delta t $$"
   ]
  },
  {
   "cell_type": "code",
   "execution_count": 4,
   "metadata": {},
   "outputs": [],
   "source": [
    "def leapfrog(t0, tmax, r0, v0, h, f, ref_val, err_tol,  **kwargs):\n",
    "    \"\"\"                                                                                                                      \n",
    "    Calculate a soln r(t) to a 1st-order ODE of the form r'(t)=f(r,t).                                                 \n",
    "                                                                                                                             \n",
    "    Uses the leapfrog method.    \n",
    "    \n",
    "    Inputs: \n",
    "    t0 & tmax (Init & final time) \n",
    "    r0 (Init pos of m1)\n",
    "    v0 (Init velocity of m1)\n",
    "    h (step size)\n",
    "    f (function to obtain accelaration)\n",
    "    ref_val: expected value for reference (r or total Energy)\n",
    "    err_tol: amount of allowed deviation from ref_val\n",
    "    \n",
    "    Returns: \n",
    "    t (array for time steps)\n",
    "    X & Y (arrays for position coordinates of both objects)\n",
    "    v_ (array of velocities of both objects)\n",
    "    err (array for relative err in position)\n",
    "    \n",
    "    \"\"\"\n",
    "    \n",
    "    debug = False\n",
    "    q = m1/m2\n",
    "    x1, y1 = r0, 0\n",
    "    x2, y2 = -q*r0,0\n",
    "    vx1, vy1 = 0, v0\n",
    "    vx2, vy2 = 0,-q*v0\n",
    "    \n",
    "    \n",
    "    # Initialize array for time at each step\n",
    "    ti = t0\n",
    "    t = np.array(ti)\n",
    "    \n",
    "    # initialize arrays of positions at each step\n",
    "    r = np.array([x1, y1, x2, y2], float)\n",
    "    R = np.array([r])\n",
    "    \n",
    "    # initialize arrays of velocities at each step\n",
    "    vinit = np.array([vx1, vy1, vx2, vy2], float)\n",
    "    v_ = np.array([vinit]) \n",
    "    vi = vinit\n",
    "    \n",
    "    # Initialize steps for error check for circular orbit\n",
    "    if ecc == 0: #circular orbit\n",
    "        r_check = np.sqrt(r[0]**2 + r[1]**2)  # current radius, r\n",
    "        rel_err = (ref_val - r_check)/ref_val\n",
    "    \n",
    "    elif ecc > 0 and ecc < 1: #elliptical orbit\n",
    "        v1_sq = vi[0]**2 + vi[1]**2\n",
    "        v2_sq = vi[2]**2 + vi[3]**2\n",
    "        r12 = np.sqrt((r[2]-r[0])**2 + (r[3]-r[1])**2)\n",
    "        E_check = 0.5*(m1*v1_sq + m2*v2_sq) - (G*m1*m2)/r12 #KE_1 + KE_2 + PE\n",
    "        rel_err = (ref_val - E_check)/ref_val\n",
    "    \n",
    "    else: # parabolic orbit\n",
    "        v1_sq = vi[0]**2 + vi[1]**2\n",
    "        v2_sq = vi[2]**2 + vi[3]**2\n",
    "        r12 = np.sqrt((r[2]-r[0])**2 + (r[3]-r[1])**2)\n",
    "        E_check =  v2_sq*0.5 - (G*M)/r12\n",
    "        rel_err = (ref_val - E_check)/ref_val\n",
    "    \n",
    "    err = np.array([rel_err])\n",
    "    \n",
    "    # solve eqns of motion using leapfrog method\n",
    "    while np.abs(rel_err) < err_tol:\n",
    "        # break if t = tmax\n",
    "        if ti > tmax:\n",
    "            if debug: print(f\"Time: {ti} > {tmax}\")\n",
    "            break\n",
    "        else:\n",
    "            if debug: print(ti, r, np.abs(r_check - ref_val))\n",
    "            # update t, r, v_mid\n",
    "            ti += h\n",
    "            ri = r +  h*vi + 0.5*f(r)*h**2\n",
    "            vi = vi + 0.5*h*(f(r) + f(ri))\n",
    "            r = ri\n",
    "            #print(f(r))\n",
    "\n",
    "            # calculate new rel error\n",
    "            if ecc == 0: #circular orbit\n",
    "                r_check = np.sqrt(r[0]**2 + r[1]**2)  # current radius, r\n",
    "                rel_err = (ref_val - r_check)/ref_val\n",
    "                #print(f\"init err: {rel_err}\")\n",
    "            elif ecc >0 and ecc < 1:\n",
    "                v1_sq = vi[0]**2 + vi[1]**2\n",
    "                v2_sq = vi[2]**2 + vi[3]**2\n",
    "                r12 = np.sqrt((r[2]-r[0])**2 + (r[3]-r[1])**2)\n",
    "                E_check = 0.5*(m1*v1_sq + m2*v2_sq) - (G*m1*m2)/r12\n",
    "                rel_err = (ref_val - E_check)/ref_val\n",
    "            else:\n",
    "                v1_sq = vi[0]**2 + vi[1]**2\n",
    "                v2_sq = vi[2]**2 + vi[3]**2\n",
    "                r12 = np.sqrt((r[2]-r[0])**2 + (r[3]-r[1])**2)\n",
    "                E_check =  v2_sq*0.5 - (G*M)/r12\n",
    "                rel_err = (ref_val - E_check)/ref_val\n",
    "            \n",
    "\n",
    "            # save t, r, phi_mid\n",
    "            t = np.append(t, ti)\n",
    "            R = np.append(R, np.array([r]), axis=0)\n",
    "            v_ = np.append(v_, np.array([vi]), axis=0)\n",
    "            err = np.append(err, rel_err) # relative error\n",
    "    \n",
    "    # components of cartesian coords\n",
    "    # R: [x1, x2, y1, y2]\n",
    "    X = R[:,[0,2]]  # x1, x2\n",
    "    Y = R[:,[1,3]]  # y1, y2\n",
    "    return t, X, Y, v_ , err\n"
   ]
  },
  {
   "cell_type": "code",
   "execution_count": 32,
   "metadata": {},
   "outputs": [],
   "source": [
    "# UNITS: kpc, Msun, Myr\n",
    "# constants\n",
    "G = (const.G).to(u.kpc**3 * u.Msun**-1 * u.Myr**-2).value # kpc^3/Msun/Myr\n",
    "\n",
    "# orbit parameters\n",
    "m1 = 1e12 # Msun\n",
    "m2 = 1e12 # Msun\n",
    "M = m1 + m2\n",
    "rmin = 25 #kpc #for parabolic encounter\n",
    "\n",
    "# runtime initial conditions\n",
    "t0, tmax = 0, 5000\n",
    "h = 1 #1e-3\n",
    "\n",
    "a = 100 # (G*M*T**2/(4*np.pi**2))**(1/3)   # semi-major axis (kpc, Kepler's Law)\n",
    "ecc = 1 #0.08 #1e-12 \n",
    " \n",
    "# starting position of first galaxy from COM\n",
    "r0 = m2*a/M\n",
    "# starting velocity of the second galaxy\n",
    "v0 = np.sqrt(G*m2/a)*np.sqrt((m2*(1-ecc**2))/M)\n",
    "\n",
    "\n",
    "if ecc == 0: #circular orbit\n",
    "    p = a\n",
    "    ref_val = r0\n",
    "    err_tol = 1e-5\n",
    "elif ecc > 0 and ecc <1: #elliptical orbit\n",
    "    p = a*(1 - ecc**2)   # semi-latus rectum (kpc)\n",
    "    E_ref = -G*m1*m2/(2*a)\n",
    "    ref_val = E_ref\n",
    "    err_tol = 1\n",
    "elif ecc == 1: # parabolic orbit\n",
    "    p = 2*rmin\n",
    "    ref_val = -0.55\n",
    "    err_tol = 1\n",
    "else:\n",
    "    print(\"Unacceptable eccentricity value!\")\n"
   ]
  },
  {
   "cell_type": "code",
   "execution_count": null,
   "metadata": {},
   "outputs": [],
   "source": []
  },
  {
   "cell_type": "code",
   "execution_count": 27,
   "metadata": {},
   "outputs": [],
   "source": [
    "# leapfrog(t0, tmax, r0, v0, h, f, r_ref, err_tol, **kwargs)\n",
    "t, X, Y, v_, err =  leapfrog(t0, tmax, r0, v0, h, f, ref_val, err_tol)\n"
   ]
  },
  {
   "cell_type": "code",
   "execution_count": 36,
   "metadata": {},
   "outputs": [
    {
     "name": "stdout",
     "output_type": "stream",
     "text": [
      "cumulative error over 368 Myr: 276.148.\n"
     ]
    },
    {
     "data": {
      "image/png": "[encoded data removed]",
      "text/plain": [
       "<Figure size 720x720 with 4 Axes>"
      ]
     },
     "metadata": {
      "needs_background": "light"
     },
     "output_type": "display_data"
    }
   ],
   "source": [
    "fig = plt.figure(figsize=(10,10))\n",
    "\n",
    "plt.subplot(221)#, aspect='equal')\n",
    "plt.plot(X[:,0], Y[:,0], label=\"m1\")\n",
    "#plt.plot(X[:,1], Y[:,1], label=\"m2\")\n",
    "plt.xlabel(\"x [kpc]\", fontsize=12), plt.ylabel(\"y [kpc]\", fontsize=12)\n",
    "plt.legend()\n",
    "plt.title(\"Orbits of galaxies\", fontsize='15', y=1.05)\n",
    "\n",
    "plt.subplot(222,aspect='auto')\n",
    "plt.scatter(t, err, s=1)\n",
    "#plt.ylim(err_tol*np.array([-1,1]))\n",
    "#plt.ylim([-0.025,0.025])\n",
    "plt.xlabel(\"Time [Myr]\", fontsize=12), plt.ylabel(\"Relative error\", fontsize=12)\n",
    "plt.title(\"Realtive err in position vs. Time\" , fontsize='15', y=1.05)\n",
    "print(f\"cumulative error over {t[-1]} Myr: {sum(err):.6}.\")\n",
    "\n",
    "plt.subplot(223,aspect='auto')\n",
    "plt.plot(v_[:,0], v_[:,1], label=\"m1\")\n",
    "plt.plot(v_[:,2], v_[:,3], label=\"m2\")\n",
    "plt.title(\"Motion of galaxies in 2D\", fontsize='15', y=1.01)\n",
    "plt.legend()\n",
    "plt.xlabel(\"$v_{x}$\", fontsize=12), plt.ylabel(\"$v_y$\", fontsize=12)\n",
    "\n",
    "plt.subplot(224,aspect='auto')\n",
    "plt.plot(t, np.sqrt(v_[:,0]**2 + v_[:,1]**2), label=\"m1\" )\n",
    "#plt.plot(t, np.sqrt(v_[:,2]**2 + v_[:,3]**2), label=\"m2\" )\n",
    "plt.title(\"Velocities of galaxies vs. Time\", fontsize='15', y=1.05)\n",
    "plt.legend()\n",
    "plt.xlabel(\"Time [Myr]\", fontsize=12), plt.ylabel(\"Velocity\", fontsize=12)\n",
    "\n",
    "\n",
    "fig.suptitle(\"\\nSimulating orbits using Leapfrog Method\\n\", fontsize = '20')\n",
    "fig.subplots_adjust(hspace=0.3,wspace=0.3,top=0.85,bottom=0.05)\n",
    "plt.show()\n"
   ]
  },
  {
   "cell_type": "code",
   "execution_count": null,
   "metadata": {},
   "outputs": [],
   "source": []
  },
  {
   "cell_type": "code",
   "execution_count": 31,
   "metadata": {},
   "outputs": [
    {
     "data": {
      "text/plain": [
       "Text(0.5, 1.05, 'Orbits of galaxies')"
      ]
     },
     "execution_count": 31,
     "metadata": {},
     "output_type": "execute_result"
    },
    {
     "data": {
      "image/png": "[encoded data removed]",
      "text/plain": [
       "<Figure size 432x288 with 1 Axes>"
      ]
     },
     "metadata": {
      "needs_background": "light"
     },
     "output_type": "display_data"
    }
   ],
   "source": [
    "plt.plot(X[:,0], Y[:,0], label=\"m1\")\n",
    "plt.plot(X[:,1], Y[:,1], label=\"m2\")\n",
    "plt.xlabel(\"x [kpc]\"), plt.ylabel(\"y [kpc]\")\n",
    "plt.legend()\n",
    "plt.title(\"Orbits of galaxies\", fontsize='15', y=1.05)\n"
   ]
  },
  {
   "cell_type": "code",
   "execution_count": null,
   "metadata": {},
   "outputs": [],
   "source": []
  },
  {
   "cell_type": "code",
   "execution_count": null,
   "metadata": {},
   "outputs": [],
   "source": []
  },
  {
   "cell_type": "code",
   "execution_count": null,
   "metadata": {},
   "outputs": [],
   "source": []
  }
 ],
 "metadata": {
  "kernelspec": {
   "display_name": "UFRC Python-3.8",
   "language": "python",
   "name": "python3-3.8-ufrc"
  },
  "language_info": {
   "codemirror_mode": {
    "name": "ipython",
    "version": 3
   },
   "file_extension": ".py",
   "mimetype": "text/x-python",
   "name": "python",
   "nbconvert_exporter": "python",
   "pygments_lexer": "ipython3",
   "version": "3.8.5"
  }
 },
 "nbformat": 4,
 "nbformat_minor": 4
}
