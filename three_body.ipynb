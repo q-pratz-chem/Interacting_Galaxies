{
 "cells": [
  {
   "cell_type": "code",
   "execution_count": 10,
   "metadata": {},
   "outputs": [],
   "source": [
    "# authors: nmg, pbg\n",
    "# phy5905 sp22\n",
    "# project 2\n",
    "\n",
    "# import packages\n",
    "import numpy as np\n",
    "import math\n",
    "import matplotlib.pyplot as plt\n",
    "\n",
    "import astropy.units as u\n",
    "import astropy.constants as const"
   ]
  },
  {
   "cell_type": "markdown",
   "metadata": {},
   "source": [
    "## Physics\n",
    "\n",
    "Reference: [MIT 8.01 lecture notes](http://web.mit.edu/8.01t/www/materials/Presentations/old_files_f07/Presentation_W14D1.pdf) \n",
    "\n",
    "Two-body framework:\n",
    "* $\\overrightarrow{r_1}$: distance from origin to $M_1$ \n",
    "* $\\overrightarrow{r_2}$: distance from origin to $M_2$\n",
    "* $\\overrightarrow{r}_{CM} = \\frac{m_1\\overrightarrow{r_1} + m_2\\overrightarrow{r_2}}{m_1 + m_2} $\n",
    "  * $\\overrightarrow{r}_{CM}$: distance from origin to center of mass\n",
    "* $ \\mu = \\frac{m_1 m_2}{m_1 + m_2}$, reduced mass\n",
    "* $\\overrightarrow{r}$: distance between $M_1$ and $M_2$ \n",
    "  * $\\overrightarrow{r} = \\overrightarrow{r_1} - \\overrightarrow{r_2}$\n",
    "  \n",
    "We can also get the vectors from the center of mass to $M_1$ and $M_2$:\n",
    "$$ \\overrightarrow{r_1}'  = \\overrightarrow{r_1} - \\overrightarrow{r_{CM}}$$\n",
    "$$ \\overrightarrow{r_1}'  = \\overrightarrow{r_1} - \\frac{m_1\\overrightarrow{r_1} \n",
    "+ m_2\\overrightarrow{r_2}}{m_1 + m_2}  $$\n",
    "$$ \\overrightarrow{r_1}'  = \\frac{m_2 (\\overrightarrow{r_1} - \\overrightarrow{r_2})}{m_1 + m_2} $$\n",
    "\n",
    "We now have expressions for the position vector of each mass with respect to\n",
    "the center of mass:\n",
    "* $ \\overrightarrow{r_1}' = \\frac{\\mu}{m_1}\\overrightarrow{r}$\n",
    "* $ \\overrightarrow{r_2}' = \\frac{\\mu}{m_2}\\overrightarrow{r}$\n",
    "\n",
    "By rewriting the two-body problem to a single-body, reduced-mass problem, we \n",
    "have an expression for $\\overrightarrow{r}$:\n",
    "$$ \\overrightarrow{r_0} = \\frac{p}{1 + e cos(\\phi)} $$\n",
    "\n",
    "We also can express the angle between each mass and the semimajor axis or axis\n",
    "of closest approach as $\\phi$:\n",
    "$$ \\phi_{0} = \\phi_{0,1} = -\\phi_{0,2} $$\n",
    "\n",
    "We can use this expression $r(\\phi)$ to find initial values for $ \\overrightarrow{r_1}'$ \n",
    "and $ \\overrightarrow{r_2}'$, and then express these in Cartesian coordinates.\n",
    "\n",
    "Here are the expressions for $m_1$: \n",
    "* $ x_{0,1} = r_{0,1}' cos \\phi_{0,1} $\n",
    "* $y_{0,1} = r_{0,1}' sin \\phi_{0,1} $\n",
    "* $\\dot{x_{0,1}} = -r_{0,1}'sin \\phi_{0,1} \\dot{\\phi_{0,1}} + \\dot{r_{0,1}}' cos \\phi_{0,1}$\n",
    "* $ \\dot{y_{0,1}} = r_{0,1}' cos \\phi_{0,1} \\dot{\\phi_{0,1}} + \\dot{r_{0,1}}' sin \\phi_{0,1}$\n",
    "\n",
    "  \n"
   ]
  },
  {
   "cell_type": "markdown",
   "metadata": {},
   "source": [
    "## Computation\n",
    "\n",
    "Reference: [A Simple Leapfrog Integration Scheme to Find Optimal Interplanetary Trajectories by Scott M. Kelley](https://ir.library.oregonstate.edu/downloads/cc08hm643)\n",
    "\n",
    "The basic equations of motion of the leapfrog integration scheme are\n",
    "\n",
    "$$r_{i+1} = r_i + v_{i+\\frac{1}{2}} \\Delta t \\\\\n",
    "v_{i+\\frac{1}{2}} = v_{i-\\frac{1}{2}} + a_i \\Delta t. $$\n",
    "\n",
    "This system of equations can be rewritten without the explicit use of half-steps by first\n",
    "expressing the velocity term for a full step in two distinct half-steps\n",
    "\n",
    "$$v_{i+\\frac{1}{2}} = v_{i-\\frac{1}{2}} + a_i \\Delta t \\\\\n",
    "v_{i+1} = v_{i+\\frac{1}{2}} + \\frac{a_{i+1}}{2} \\Delta t. $$\n",
    "\n",
    "Combining above equations allows the equations of motion to be written strictly in terms of integer timesteps:\n",
    "\n",
    "$$r_{i+1} = r_i + v_i \\Delta t + \\frac{a_i}{2}\\Delta t^2 \\\\\n",
    "v_{i+1} = v_i + \\frac{(a_i + a_{i+1})}{2} \\Delta t $$"
   ]
  },
  {
   "cell_type": "code",
   "execution_count": 11,
   "metadata": {},
   "outputs": [],
   "source": [
    "def f2(rs, **kwargs):\n",
    "    \"\"\"\n",
    "    Evaluate the second derivative of the position vector in 2D.\n",
    "    \n",
    "    Inputs:  array with x-, y- components of the position vector\n",
    "    Returns: array of x-,y- components of acceleration \n",
    "             evaluated at these points\n",
    "    \"\"\"\n",
    "    # position of mass1, mass2    \n",
    "    x1, y1 = rs[0], rs[1]  \n",
    "    x2, y2 = rs[2], rs[3] \n",
    "    r = np.sqrt((x2 - x1)**2 + (y2 - y1)**2)\n",
    "    \n",
    "    # x, y components of Acceleration 'a'\n",
    "    ax1 = G*m2*(x2 - x1)/r**3    \n",
    "    ay1 = G*m2*(y2 - y1)/r**3    \n",
    "    ax2 = G*m1*(x1 - x2)/r**3    \n",
    "    ay2 = G*m1*(y1 - y2)/r**3    \n",
    "    \n",
    "    return np.array([ax1, ay1, ax2, ay2], float)\n",
    "    "
   ]
  },
  {
   "cell_type": "code",
   "execution_count": 12,
   "metadata": {},
   "outputs": [],
   "source": [
    "def get_energy(r, vi):\n",
    "    \"\"\"\n",
    "    Calculate vis-viva energy for two masses\n",
    "    \n",
    "    Inputs:\n",
    "        r, 1-D array of (x1, y1, x2, y2)\n",
    "        vi, 1-D array of (vx1, vy1, vx2, vy2)\n",
    "    Returns:\n",
    "        energy, v**2/2 - mu/r\n",
    "    \n",
    "    \"\"\"\n",
    "    \n",
    "    x1, y1, x2, y2 = r\n",
    "    vx1, vy1, vx2, vy2 = vi\n",
    "    \n",
    "    r12 = np.sqrt((x2 - x1)**2 + (y2 - y1)**2)\n",
    "    v12 = np.sqrt((vx2 - vx1)**2 + (vy2 - vy1)**2)\n",
    "    \n",
    "    vve = 0.5*v12**2 - mu/r12\n",
    "    E = 0.5*mu*v12**2 - G*m1*m2/r12\n",
    "    \n",
    "    return E\n",
    "    "
   ]
  },
  {
   "cell_type": "code",
   "execution_count": 13,
   "metadata": {},
   "outputs": [],
   "source": [
    "def get_err(truth, computed):\n",
    "    \"\"\"Calculate relative error\"\"\"\n",
    "    if truth == 0.:\n",
    "        print(\"using alt err\")\n",
    "        err = truth - computed\n",
    "    else: \n",
    "        err = (truth - computed)/truth\n",
    "    return err"
   ]
  },
  {
   "cell_type": "code",
   "execution_count": 14,
   "metadata": {},
   "outputs": [],
   "source": [
    "def leapfrog(t0, tmax, r0, phi0, dphi0, dr0, h, f, err_tol, plot=False, **kwargs):\n",
    "    \"\"\"                                                                                                                      \n",
    "    Calculate a soln r(t) to a 1st-order ODE of the form r'(t)=f(r,t).                                                 \n",
    "                                                                                                                             \n",
    "    Uses the leapfrog method.    \n",
    "    \n",
    "    Inputs: \n",
    "    t0 & tmax (Init & final time) \n",
    "    r0, phi0 (Init pos, angle of reduced mass, mu)\n",
    "    dphi0, dr0 (initial angular, radial velocity of mu)\n",
    "    h (step size)\n",
    "    f (function to obtain accelaration)\n",
    "    err_tol: amount of allowed error in Energy calculation\n",
    "    \n",
    "    Returns: \n",
    "    t (array for time steps)\n",
    "    X & Y (arrays for position coordinates of both objects wrt COM)\n",
    "    v_ (array of velocities of both objects)\n",
    "    err (array for relative err in position)\n",
    "    \n",
    "    \"\"\"\n",
    "    \n",
    "    debug = False\n",
    "    \n",
    "    x0 = r0 * np.cos(phi0)\n",
    "    y0 = r0 * np.sin(phi0)\n",
    "    vx0 = -r0 * np.sin(phi0)*dphi0 + np.cos(phi0)*dr0\n",
    "    vy0 = r0 * np.cos(phi0)*dphi0 + np.sin(phi0)*dr0\n",
    "    \n",
    "    # convert from one-body reduced-mass to two-body problem\n",
    "    x1, y1 = (mu/m1)*x0, (mu/m1)*y0  # r0, 0\n",
    "    x2, y2 = -(mu / m2)*x0, -(mu / m2)*y0 # -q*r0,0\n",
    "    vx1, vy1 = (mu/m1)*vx0, (mu/m1)*vy0 # 0, v0\n",
    "    vx2, vy2 = -(mu / m2)*vx0, -(mu / m2)*vy0 # 0,-q*v0\n",
    "    \n",
    "    # Initialize array for time at each step\n",
    "    ti = t0\n",
    "    t = np.array(ti)\n",
    "    \n",
    "    # initialize arrays of positions at each step\n",
    "    r = np.array([x1, y1, x2, y2], float)\n",
    "    R = np.array([r])\n",
    "    \n",
    "    # initialize arrays of velocities at each step\n",
    "    vinit = np.array([vx1, vy1, vx2, vy2], float)\n",
    "    v_ = np.array([vinit]) \n",
    "    vi = vinit\n",
    "    \n",
    "    # track relative error between initial Energy, calculated Energy \n",
    "    E_now = get_energy(r,vi)\n",
    "    # total energy of system, E = KE + PE\n",
    "    E_ref = 0.5*mu*(vx0**2 + vy0**2) - G*m1*m2/r0\n",
    "    \n",
    "    rel_err = get_err(E_ref, E_now)\n",
    "    #print(f\"t=0: E_ref: {E_ref}, rel_err: {rel_err}\")\n",
    "    err = np.array([rel_err])\n",
    "    E = np.array([E_now])\n",
    "    \n",
    "    # solve eqns of motion using leapfrog method\n",
    "    while True: # np.abs(rel_err) < err_tol:\n",
    "        # break if t = tmax\n",
    "        if ti > tmax:\n",
    "            if debug: print(f\"Time: {ti} > {tmax}\")\n",
    "            break\n",
    "        else:\n",
    "            # update t, r, v_mid\n",
    "            ti += h\n",
    "            ri = r +  h*vi + 0.5*f(r)*h**2\n",
    "            vi = vi + 0.5*h*(f(r) + f(ri))\n",
    "            r = ri\n",
    "            Ei = get_energy(r, vi)\n",
    "            \n",
    "            # calculate new rel error\n",
    "            # print(f\"dE: {E_ref - get_energy(r, vi)}\")\n",
    "            rel_err = get_err(E_ref, get_energy(r, vi))\n",
    "            #print(f\"err: {rel_err}\")\n",
    "            \n",
    "            # save t, r, phi_mid\n",
    "            t = np.append(t, ti)\n",
    "            R = np.append(R, np.array([r]), axis=0)\n",
    "            v_ = np.append(v_, np.array([vi]), axis=0)\n",
    "            err = np.append(err, rel_err) # relative error\n",
    "            E = np.append(E, Ei)\n",
    "    \n",
    "    # components of cartesian coords\n",
    "    # R: [x1, x2, y1, y2]\n",
    "    X = R[:,[0,2]]  # x1, x2\n",
    "    Y = R[:,[1,3]]  # y1, y2\n",
    "    # calculate error using either relative error or mean of E \n",
    "    print(f\"E_ref = {E_ref}, |mean(E)| = {np.abs(np.mean(E))}\")\n",
    "    #err = (E_ref - E) / np.max((np.abs(E_ref), np.abs(np.mean(E))))\n",
    "    #err = (E - E_ref) / (E_ref, d)\n",
    "    \n",
    "    if plot == True:\n",
    "        make_plot(X, Y, v_, t, err)\n",
    "    \n",
    "    return t, R, X, Y, v_, err"
   ]
  },
  {
   "cell_type": "code",
   "execution_count": null,
   "metadata": {},
   "outputs": [],
   "source": []
  },
  {
   "cell_type": "code",
   "execution_count": 15,
   "metadata": {},
   "outputs": [],
   "source": [
    "def make_plot(X, Y, v_, t, err):\n",
    "    fig = plt.figure(figsize=(12,10))\n",
    "\n",
    "\n",
    "    # paths of m1, m2\n",
    "    plt.subplot(221) # ,aspect='auto')\n",
    "    plt.scatter(0,0, marker='x', color='grey', alpha=0.5, label=r'CoM')\n",
    "    plt.scatter(X[0,0], Y[0,0], s=10, c='steelblue') # initial position\n",
    "    plt.scatter(X[0,1], Y[0,1], s=10, c='orange') # initial position\n",
    "    plt.plot(X[:,0], Y[:,0], label=f\"m1 = {m1:.3} Msun\")\n",
    "    plt.plot(X[:,1], Y[:,1], label=f\"m2 = {m2:.3} Msun\")\n",
    "    plt.xlabel(\"x [kpc]\", fontsize=12), plt.ylabel(\"y [kpc]\", fontsize=12)\n",
    "    plt.legend(loc='lower right')\n",
    "    plt.title(\"Orbits of galaxies\", fontsize='15', y=1.05)\n",
    "\n",
    "    # err vs time\n",
    "    plt.subplot(222,aspect='auto')\n",
    "    plt.scatter(t, err, s=1)\n",
    "    plt.ylim(err_tol*np.array([-1,1]))\n",
    "    plt.xlabel(\"Time [Myr]\", fontsize=12), plt.ylabel(\"Relative error\", fontsize=12)\n",
    "    plt.title(\"Relative err in position vs. time\" , fontsize='15', y=1.05)\n",
    "    print(f\"cumulative error over {t[-1]} Myr: {err[-1]:.6} .\")\n",
    "\n",
    "    # vx vs vy\n",
    "    plt.subplot(223,aspect='auto')\n",
    "    plt.scatter(0,0, marker='x', color='grey', label=r'$v_{CoM}$')\n",
    "    plt.scatter(v_[0,0], v_[0,1], s=10, c='steelblue') # initial velocity\n",
    "    plt.scatter(v_[0,2], v_[0,3], s=10, c='orange') # initial velocity\n",
    "    plt.plot(v_[:,0], v_[:,1], label=\"m1\")\n",
    "    plt.plot(v_[:,2], v_[:,3], label=\"m2\")\n",
    "    plt.title(\"Motion of galaxies in 2D\", fontsize='15', y=1.01)\n",
    "    plt.legend()\n",
    "    plt.xlabel(\"$v_{x}$\", fontsize=12), plt.ylabel(\"$v_y$\", fontsize=12)\n",
    "\n",
    "    # vel vs time\n",
    "    plt.subplot(224,aspect='auto')\n",
    "    plt.plot(t, np.sqrt(v_[:,0]**2 + v_[:,1]**2), lw=3, label=\"m1\" )\n",
    "    plt.plot(t, np.sqrt(v_[:,2]**2 + v_[:,3]**2), label=\"m2\" )\n",
    "    plt.title(\"Velocities of galaxies vs. Time\", fontsize='15', y=1.05)\n",
    "    plt.legend()\n",
    "    plt.xlabel(\"Time [Myr]\", fontsize=12), plt.ylabel(\"Velocity\", fontsize=12)\n",
    "\n",
    "\n",
    "    fig.suptitle(\"\\nSimulating orbits using Leapfrog Method\\n\", fontsize = '20')\n",
    "    fig.subplots_adjust(hspace=0.3,wspace=0.3,top=0.85,bottom=0.05)\n",
    "    plt.show()\n",
    "    \n",
    "    \n",
    "    plt.scatter(0,0, marker='x', color='grey', alpha=0.5, label=r'CoM')\n",
    "    plt.scatter(X[0,0], Y[0,0], s=20, c='steelblue') # initial position\n",
    "    plt.scatter(X[0,1], Y[0,1], s=20, c='orange') # initial position\n",
    "    plt.plot(X[:,0], Y[:,0], label=f\"m1 = {m1:.3} Msun\")\n",
    "    plt.plot(X[:,1], Y[:,1], label=f\"m2 = {m2:.3} Msun\")\n",
    "\n",
    "    plt.xlabel(\"x [kpc]\"), plt.ylabel(\"y [kpc]\")\n",
    "    plt.legend()\n",
    "    plt.title(\"Orbits of galaxies\", fontsize='15', y=1.05)\n",
    "    plt.show()\n"
   ]
  },
  {
   "cell_type": "code",
   "execution_count": 16,
   "metadata": {},
   "outputs": [],
   "source": [
    "def test_particles():\n",
    "    '''Function returns the position of test particles w.rt. center of galaxy #1.\n",
    "    \n",
    "    Returns:\n",
    "    particles \n",
    "    (1st rows of this array gives position of galaxy wrt COM)\n",
    "    (subsequent rows gives position of stars wrt COM)\n",
    "    \n",
    "    '''\n",
    "    ring_spacing = np.array([0.2, 0.3, 0.4, 0.5, 0.6]) \n",
    "    # np.array([0.12, 0.18, 0.24, 0.3, 0.36]) # alt ring spacing\n",
    "\n",
    "    n_particles = np.array([12,18,24,30,36]) # number of particles per ring\n",
    "    global tot_stars\n",
    "    tot_stars = np.sum(n_particles)\n",
    "    \n",
    "    # initial position, velocity of galaxy wrt center of mass\n",
    "    x0 = r0 * np.cos(phi0)\n",
    "    y0 = r0 * np.sin(phi0)\n",
    "    vx0 = -r0 * np.sin(phi0)*dphi0 + np.cos(phi0)*dr0\n",
    "    vy0 = r0 * np.cos(phi0)*dphi0 + np.sin(phi0)*dr0\n",
    "    x1, y1 = (mu/m1)*x0, (mu/m1)*y0  # r0, 0\n",
    "    vx1, vy1 = (mu/m1)*vx0, (mu/m1)*vy0 # 0, v0\n",
    "    gx0, gy0 = x1, y1\n",
    "    gvx0, gvy0 = vx1, vy1\n",
    "    galaxy_coords = np.array([gx0, gy0, gvx0, gvy0])\n",
    "    \n",
    "    \n",
    "    rings_r = ring_spacing*rmin  # radius of each ring from center of galaxy\n",
    "    #rings_r += r0 # radius of each ring from COM of two galaxies\n",
    "    rings_phi = 2*np.pi / n_particles  # angular position of each particle\n",
    "    \n",
    "    particles = np.array([galaxy_coords])\n",
    "    #particles = np.array([])\n",
    "    particles = particles.reshape(1,4)\n",
    "\n",
    "    # make evenly spaced rings of N particles per ring\n",
    "    for i in range(len(rings_r)):\n",
    "        # r, phi coordinates for each particle\n",
    "        phis = np.arange(0,2*np.pi,rings_phi[i])\n",
    "        rs = np.ones(n_particles[i]) * rings_r[i]\n",
    "\n",
    "        # convert to cartesian coordinates\n",
    "        xs = rs * np.cos(phis) + x1   # xstar wrt com\n",
    "        ys = rs * np.sin(phis) + y1   # ystar wrt com\n",
    "        vxs = np.zeros(len(xs)) + vx1 # vxstar wrt com\n",
    "        vys = np.zeros(len(xs)) + vy1 # vystar wrt com\n",
    "\n",
    "        # add row of x, y, vx, vy for each particle in ring\n",
    "        ring_particles = np.concatenate(np.array([list(zip(xs, ys, vxs, vys))]),axis=0)\n",
    "        particles = np.append(particles, ring_particles, axis=0)\n",
    "        \n",
    "    return particles\n"
   ]
  },
  {
   "cell_type": "code",
   "execution_count": 17,
   "metadata": {},
   "outputs": [],
   "source": [
    "def f3(rs, **kwargs):\n",
    "    \"\"\"\n",
    "    Evaluate the second derivative of the position vector of a star in 2D.\n",
    "    \n",
    "    Inputs:  \n",
    "    rs:  [x_star, y_star, x_galaxy1, y_galaxy1, x_galaxy2, y_galaxy2]\n",
    "    array with x-, y- components of pos of star, galaxy1, galaxy2 respectively\n",
    "    Returns: array of x-,y- components of acceleration of a star\n",
    "             evaluated at these points\n",
    "    \"\"\"\n",
    "    # position of mass1, mass2    \n",
    "    x_star, y_star = rs[0], rs[1] # pos of star wrt COM\n",
    "    x2, y2 = rs[2], rs[3] # galaxy #1 wrt COM\n",
    "    x3, y3 = rs[4], rs[5] # galaxy #2 wrt COM\n",
    "    r12 = np.sqrt((x2 - x_star)**2 + (y2 - y_star)**2)\n",
    "    r13 = np.sqrt((x3 - x_star)**2 + (y3 - y_star)**2)\n",
    "#     r12 = np.sqrt((x_star)**2 + (y_star)**2)\n",
    "#     r13 = np.sqrt((x_star)**2 + (y_star)**2)\n",
    "\n",
    "    # x, y components of Acceleration 'a'\n",
    "    ax = G*m1*(x2 - x_star)/r12**3  + G*m2*(x3 - x_star)/r13**3 \n",
    "    ay = G*m1*(y2 - y_star)/r12**3  + G*m2*(y3 - y_star)/r13**3    \n",
    "#     ax = G*m1*(x_star)/r12**3  + G*m2*(x_star)/r13**3 \n",
    "#     ay = G*m1*(y_star)/r12**3  + G*m2*(y_star)/r13**3    \n",
    "    \n",
    "    return np.array([ax, ay], float)"
   ]
  },
  {
   "cell_type": "code",
   "execution_count": 18,
   "metadata": {},
   "outputs": [],
   "source": [
    "# Obtain a circular disk of galaxy containing massless test particles \n",
    "##   pretended as stars\n",
    "\n",
    "def evolve_disk_galaxy2():\n",
    "    '''\n",
    "    Evolves the disk of galaxy #1 with galaxy #2\n",
    "    using leapfrog integration.\n",
    "    \n",
    "    '''\n",
    "    \n",
    "    #ts = np.arange(t0+h, tmax+h, h)\n",
    "    \n",
    "    particles = test_particles() # obtain initial position and velocities of stars  around galaxy#1\n",
    "    plt.scatter(particles[:, 0], particles[:,1])\n",
    "    \n",
    "    # Start 3-D array to store [x,y,vx,vy] of stars\n",
    "    elements = tot_stars* len(ts)*4\n",
    "    arr_star = np.zeros(elements).reshape(tot_stars, len(ts), 4)\n",
    "    \n",
    "    # update [x,y,vx,vy] in the 3-D array of stars for 0th time step\n",
    "    for  k in np.arange(1, len(particles)): #skipping first row of galaxy\n",
    "        pos = particles[k][:2] #[x*, y*]\n",
    "        vel = particles[k][2:]\n",
    "        xs, ys = pos[0], pos[1]\n",
    "        vxs, vys = vel[0], vel[1]\n",
    "\n",
    "        arr_star[k-1][0] = np.array([xs, ys, vxs, vys])\n",
    "        \n",
    "    #---------------------------------------------------------------------------------------    \n",
    "    # Iterations for LEAPFROG Integrations\n",
    "    for  k in np.arange(0, len(particles)-1,1):#skipping first row of galaxy\n",
    "        # get initial pos and vel of star\n",
    "        pos = arr_star[k][0][:2]  #[x*, y*] for k^th particle at prev time step\n",
    "        vel = arr_star[k][0][2:] #[vx*,vy*]\n",
    "        xs, ys = pos[0], pos[1]\n",
    "        vxs, vys = vel[0], vel[1]\n",
    "        \n",
    "        for step in np.arange(1, len(ts),1): \n",
    "            gx1, gy1 = R_galaxy[step-1][0], R_galaxy[step-1][1]\n",
    "            gx2, gy2 = R_galaxy[step-1][2], R_galaxy[step-1][3]\n",
    "            vx1, vy1 = V_galaxy[step][0], V_galaxy[step][1]\n",
    "            #pepare input arrays for acceleration function 'f3'\n",
    "            r_old = [xs, ys, gx1, gy1, gx2, gy2]\n",
    "        \n",
    "            # update pos of stars\n",
    "            #ri = pos + h*vel + 0.5*(f3(r_old) + f2(R_galaxy[step-1])[:2])*h**2 # + np.array([gx1,gy1])\n",
    "            ri = pos + h*vel + 0.5*(f3(r_old))*h**2  #+ np.array([gx1,gy1])\n",
    "            \n",
    "            #pepare input arrays for acceleration function 'f3'\n",
    "            gx1_next, gy1_next = R_galaxy[step][0], R_galaxy[step][1]\n",
    "            gx2_next, gy2_next = R_galaxy[step][2], R_galaxy[step][3]\n",
    "            r_new = [ri[0], ri[1], gx1_next, gy1_next, gx2_next, gy2_next]\n",
    "            \n",
    "            # update vel of stars\n",
    "            #vi = vel + 0.5*h*(f3(r_old)+ f2(R_galaxy[step-1])[:2] + f3(r_new) + f2(R_galaxy[step])[:2]) # + np.array([vx1, vy1])\n",
    "            vi = vel + 0.5*h*(f3(r_old) + f3(r_new)) #+ np.array([vx1, vy1])\n",
    "\n",
    "            # Add the pos, vel of current time step in 3-D array\n",
    "            arr_star[k][step] = np.array([ri[0], ri[1], vi[0], vi[1]])\n",
    "            \n",
    "            \n",
    "            # get ready for new time step\n",
    "            pos = ri\n",
    "            vel = vi\n",
    "            xs, ys = pos[0], pos[1]\n",
    "            vxs, vys = vel[0],vel[1]\n",
    "    #prin\n",
    "\n",
    "    return arr_star"
   ]
  },
  {
   "cell_type": "code",
   "execution_count": 19,
   "metadata": {},
   "outputs": [
    {
     "name": "stdout",
     "output_type": "stream",
     "text": [
      "runtime 700 Myr\n",
      "parabolic orbit\n",
      "initial r0, phi0: 123.73 kpc, -2.2092 rad\n"
     ]
    }
   ],
   "source": [
    "# UNITS: kpc, Msun, Myr\n",
    "# constants\n",
    "G = (const.G).to(u.kpc**3 * u.Msun**-1 * u.Myr**-2).value # kpc^3/Msun/Myr\n",
    "\n",
    "# tunable orbit parameters\n",
    "m1 = 1e12 # Msun\n",
    "m2 = 1e12 # Msun\n",
    "rmin = 25. # kpc #for parabolic encounter\n",
    "a = rmin # (G*M*T**2/(4*np.pi**2))**(1/3)   # semi-major axis (kpc, Kepler's Law)\n",
    "ecc = 1. # eccentricity\n",
    "\n",
    "# Etot = -Gm1m2/2a (total energy)\n",
    "# PE_12 + KE_1 + KE_2 = Etot\n",
    "# -Gm1m2/r_12 + 0.5*m1*v1**2 + 0.5*m2+v2**2 = Etot\n",
    "# a = 100 # (G*M*T**2/(4*np.pi**2))**(1/3)   # semi-major axis (kpc, Kepler's Law)\n",
    "# ecc = 0.1 #1e-12 #0.05 \n",
    "# p = a*(1 - ecc**2)   # semi-latus rectum (kpc)\n",
    "# calculated parameters\n",
    "M = m1 + m2\n",
    "mu = m1*m2 / M\n",
    "P = np.sqrt((4*np.pi**2*a**3)/(G*M))\n",
    "\n",
    "# runtime initial conditions\n",
    "t0, tmax = 0, 700 #5*P # 5000\n",
    "print(f\"runtime {tmax} Myr\")\n",
    "h = 100 #1e-3  # Myr\n",
    "\n",
    "# define values for p, error calculation\n",
    "if ecc == 1.:      # parabolic orbit\n",
    "    print(\"parabolic orbit\")\n",
    "    p = 2 * rmin  \n",
    "    err_tol = 1e10  # arbitrary value because E = 0\n",
    "elif (ecc > 0.) & (ecc < 1.): # closed orbit, elliptical\n",
    "    print(\"elliptical orbit\")\n",
    "    p = a * (1 - ecc**2)\n",
    "    err_tol = 1e-5\n",
    "else: # closed orbit, circular\n",
    "    print(\"circular orbit\")\n",
    "    p = a\n",
    "    err_tol = 1e-5\n",
    "\n",
    "# choose initial position, motion of reduced-mass galaxy pair relative to \n",
    "#    semi-major axis or axis of closest approach\n",
    "phi0 = np.pi*(2*np.random.rand() - 1) \n",
    "r0 = p / (1 + ecc * np.cos(phi0))\n",
    "dphi0 = np.sqrt(G*M*p) / r0**2\n",
    "dr0 = ecc * r0**2 * np.sin(phi0) * dphi0 / p\n",
    "\n",
    "print(f\"initial r0, phi0: {r0:.5} kpc, {phi0:.5} rad\")"
   ]
  },
  {
   "cell_type": "code",
   "execution_count": 20,
   "metadata": {},
   "outputs": [
    {
     "name": "stdout",
     "output_type": "stream",
     "text": [
      "using alt err\n",
      "using alt err\n",
      "using alt err\n",
      "using alt err\n",
      "using alt err\n",
      "using alt err\n",
      "using alt err\n",
      "using alt err\n",
      "using alt err\n",
      "E_ref = 0.0, |mean(E)| = 7784835613.54825\n"
     ]
    }
   ],
   "source": [
    "# leapfrog(t0, tmax, r0, v0, h, f, r_ref, err_tol, **kwargs)\n",
    "ts, R_galaxy,  X, Y, V_galaxy, err =  leapfrog(t0, tmax, r0, phi0, dphi0, dr0, h, f2, err_tol, plot = False)\n"
   ]
  },
  {
   "cell_type": "code",
   "execution_count": 21,
   "metadata": {},
   "outputs": [
    {
     "data": {
      "image/png": "[encoded data removed]",
      "text/plain": [
       "<Figure size 432x288 with 1 Axes>"
      ]
     },
     "metadata": {
      "needs_background": "light"
     },
     "output_type": "display_data"
    }
   ],
   "source": [
    "arr_star = evolve_disk_galaxy2()\n"
   ]
  },
  {
   "cell_type": "code",
   "execution_count": 22,
   "metadata": {},
   "outputs": [],
   "source": [
    "X_star = arr_star[:,:,0]\n",
    "Y_star = arr_star[:,:,1]\n",
    "Vx_star = arr_star[:,:,2]\n",
    "Vy_star = arr_star[:,:,3]"
   ]
  },
  {
   "cell_type": "code",
   "execution_count": 23,
   "metadata": {},
   "outputs": [
    {
     "data": {
      "text/plain": [
       "(-2000.0, 2000.0)"
      ]
     },
     "execution_count": 23,
     "metadata": {},
     "output_type": "execute_result"
    },
    {
     "data": {
      "image/png": "[encoded data removed]",
      "text/plain": [
       "<Figure size 432x288 with 1 Axes>"
      ]
     },
     "metadata": {
      "needs_background": "light"
     },
     "output_type": "display_data"
    }
   ],
   "source": [
    "end = len(ts)-1 # 100 Myr = 10^8 yrs\n",
    "plt.plot(R_galaxy[:,0],R_galaxy[:,1], lw=1)       # gal1\n",
    "plt.plot(R_galaxy[:,2],R_galaxy[:,3])         # gal2\n",
    "plt.scatter(X_star[:,0], Y_star[:,0], s=10)    # initial stars position\n",
    "plt.scatter(X_star[:,2], Y_star[:,2], s=10)\n",
    "#plt.scatter(X_star[:,-1], Y_star[:,-1], s=10) # position at \"end\"\n",
    "#plt.scatter(R_galaxy[1,0],R_galaxy[1,1], s=100)\n",
    "#plt.scatter(X_star[:,100], Y_star[:,100], s=2)\n",
    "window = 2000\n",
    "plt.xlim([-window,window])\n",
    "plt.ylim([-window,window])\n",
    "#plt.scatter(X_star[:,101], Y_star[:,101], s=2)\n",
    "# plt.scatter(X_star[:,300], Y_star[:,300], s=2)\n",
    "# plt.scatter(X_star[:,400], Y_star[:,400], s=2)"
   ]
  },
  {
   "cell_type": "code",
   "execution_count": 24,
   "metadata": {},
   "outputs": [],
   "source": [
    "np.savetxt('stars_posX.txt',np.array(X_star), fmt='%f')\n",
    "np.savetxt('stars_posY.txt',np.array(Y_star), fmt='%f')\n",
    "np.savetxt('stars_velX.txt',np.array(Vx_star), fmt='%f')\n",
    "np.savetxt('stars_velY.txt',np.array(Vy_star), fmt='%f')\n"
   ]
  },
  {
   "cell_type": "code",
   "execution_count": 25,
   "metadata": {},
   "outputs": [
    {
     "data": {
      "text/plain": [
       "<matplotlib.legend.Legend at 0x2b86e107ed00>"
      ]
     },
     "execution_count": 25,
     "metadata": {},
     "output_type": "execute_result"
    },
    {
     "data": {
      "image/png": "[encoded data removed]",
      "text/plain": [
       "<Figure size 432x288 with 1 Axes>"
      ]
     },
     "metadata": {
      "needs_background": "light"
     },
     "output_type": "display_data"
    }
   ],
   "source": [
    "#plt.plot(Vy_star[0,:10])\n",
    "end = 20\n",
    "plt.plot(X_star[0,:end], label='X')\n",
    "plt.plot(Vx_star[0,:end], label='Vx')\n",
    "plt.legend()"
   ]
  },
  {
   "cell_type": "code",
   "execution_count": 17,
   "metadata": {},
   "outputs": [],
   "source": [
    "\n",
    "#plt.plot(Y_star[0,:8])"
   ]
  },
  {
   "cell_type": "code",
   "execution_count": 18,
   "metadata": {},
   "outputs": [
    {
     "data": {
      "text/plain": [
       "[<matplotlib.lines.Line2D at 0x2b2f02326e80>]"
      ]
     },
     "execution_count": 18,
     "metadata": {},
     "output_type": "execute_result"
    },
    {
     "data": {
      "image/png": "[encoded data removed]",
      "text/plain": [
       "<Figure size 432x288 with 1 Axes>"
      ]
     },
     "metadata": {
      "needs_background": "light"
     },
     "output_type": "display_data"
    }
   ],
   "source": [
    "plt.plot(V_galaxy[:,1])"
   ]
  },
  {
   "cell_type": "code",
   "execution_count": 19,
   "metadata": {},
   "outputs": [
    {
     "data": {
      "image/png": "[encoded data removed]",
      "text/plain": [
       "<Figure size 432x288 with 1 Axes>"
      ]
     },
     "metadata": {
      "needs_background": "light"
     },
     "output_type": "display_data"
    }
   ],
   "source": [
    "plt.plot()\n",
    "plt.plot(X_star, Y_star, \":\")\n",
    "plt.show()"
   ]
  },
  {
   "cell_type": "code",
   "execution_count": 20,
   "metadata": {},
   "outputs": [
    {
     "data": {
      "image/png": "[encoded data removed]",
      "text/plain": [
       "<Figure size 432x288 with 1 Axes>"
      ]
     },
     "metadata": {
      "needs_background": "light"
     },
     "output_type": "display_data"
    }
   ],
   "source": [
    "plt.plot(X_star[len(ts):2*len(ts)], Y_star[len(ts):2*len(ts)]);"
   ]
  },
  {
   "cell_type": "code",
   "execution_count": 21,
   "metadata": {},
   "outputs": [
    {
     "name": "stdout",
     "output_type": "stream",
     "text": [
      "9\n"
     ]
    },
    {
     "data": {
      "image/png": "[encoded data removed]",
      "text/plain": [
       "<Figure size 720x480 with 1 Axes>"
      ]
     },
     "metadata": {
      "needs_background": "light"
     },
     "output_type": "display_data"
    }
   ],
   "source": [
    "n_particles = np.array([12,18,24,30,36])\n",
    "idx = 0\n",
    "print(len(ts))\n",
    "k=0\n",
    "fig = plt.figure(figsize=(6, 4), dpi=120)     \n",
    "for n in n_particles:\n",
    "    p = 0\n",
    "    for k in np.arange(p,p+n):\n",
    "   # plt.scatter(X_star[idx:idx/n+len(ts)], Y_star[idx:idx/n+len(ts)], s=0.03, marker='o')#, \":\", label=f'{n}')\n",
    "        plt.scatter(X_star[idx:k*len(ts)], Y_star[idx:k*len(ts)],s = 0.001, marker='o')\n",
    "    \n",
    "        idx = idx + k*len(ts)\n",
    "    p = p+n"
   ]
  },
  {
   "cell_type": "code",
   "execution_count": 22,
   "metadata": {},
   "outputs": [
    {
     "name": "stdout",
     "output_type": "stream",
     "text": [
      "[[[ 1  2  3  4]\n",
      "  [ 5  6  7  8]\n",
      "  [ 9 10 11 12]]\n",
      "\n",
      " [[13 14 15 16]\n",
      "  [17 18 19 20]\n",
      "  [21 22 23 24]]]\n",
      "[ 1  5  9 13 17 21]\n"
     ]
    }
   ],
   "source": [
    "arr = np.arange(1,25).reshape(2,3,4)\n",
    "print(arr)\n",
    "\n",
    "print(arr[:,:,0].reshape(-1))\n"
   ]
  },
  {
   "cell_type": "code",
   "execution_count": 23,
   "metadata": {},
   "outputs": [],
   "source": [
    "        # update velocities of stars\n",
    "#         vx_star += vx_star + 0.5*h*(G*(m1*(x1-x_star)/r1**3 + m2*(x2-x_star)/r2**3)\n",
    "#                                     +  0.5*h*(G*(m1*(x1-x_star)/r1**3 + m2*(x2-x_star)/r2**3)\n",
    "#         vy_star += vy_star + 0.5*h*(G*(m1*(y1-y_star)/r1**3 + m2*(y2-y_star)/r2**3) \n",
    "#                                     + 0.5*h*(G*(m1*(y1-y_star)/r1**3 + m2*(y2-y_star)/r2**3)"
   ]
  },
  {
   "cell_type": "code",
   "execution_count": 24,
   "metadata": {},
   "outputs": [],
   "source": [
    "# # Obtain a circular disk of galaxy containing massless test particles \n",
    "# ##   pretended as stars\n",
    "\n",
    "# def evolve_disk_galaxy2(h, Nsteps=1000, Nsnapshots =100):\n",
    "#     '''\n",
    "#     Evolves the disk of galaxy #1 with galaxy #2\n",
    "#     using leapfrog integration.\n",
    "    \n",
    "#     '''\n",
    "    \n",
    "#     ts = np.arange(t0+h, tmax+h, h)\n",
    "    \n",
    "#     x0 = r0 * np.cos(phi0)\n",
    "#     y0 = r0 * np.sin(phi0)\n",
    "#     vx0 = -r0 * np.sin(phi0)*dphi0 + np.cos(phi0)*dr0\n",
    "#     vy0 = r0 * np.cos(phi0)*dphi0 + np.sin(phi0)*dr0\n",
    "    \n",
    "#     # convert from one-body reduced-mass to two-body problem\n",
    "#     # Initial pos & vel of both galaxies wrt COM\n",
    "#     x1, y1 = (mu/m1)*x0, (mu/m1)*y0  # r0, 0\n",
    "#     x2, y2 = -(mu / m2)*x0, -(mu / m2)*y0 # -q*r0,0\n",
    "#     vx1, vy1 = (mu/m1)*vx0, (mu/m1)*vy0 # 0, v0\n",
    "#     vx2, vy2 = -(mu / m2)*vx0, -(mu / m2)*vy0 # 0,-q*v0\n",
    "    \n",
    "#     r_g = np.array([x1, y1, x2, y2], float)\n",
    "#     R_galaxy = np.array([r_g])\n",
    "    \n",
    "#     vi_g = np.array([vx1, vy1, vx2, vy2], float)\n",
    "#     V_galaxy  = np.array([vi_g]) \n",
    "    \n",
    "#     # number of steps per snapshot\n",
    "#     div = max(int(N_steps/N_snapshots), 1)\n",
    "#     print(\"\\nSolving equations of motion for a galaxy interacting with disk of galaxy with stars using Leapfrog integration\\n\")\n",
    "    \n",
    "#     particles = test_particles() # obtain initial position and velocities of stars  around galaxy#1\n",
    "#     x_star = particles[:,0]\n",
    "#     y_star = particles[:,1]\n",
    "#     vx_star = particles[:,2]\n",
    "#     vy_star = particles[:,3]\n",
    "\n",
    "    \n",
    "#     rs = [x_star, y_star, x1, y1, x2, y2]\n",
    "#     vi_ = [vx_star, vy_star, vx1, vy1, vx2, vy2]\n",
    "    \n",
    "#     # Start 3-D array to store [x,y,vx,vy] of stars\n",
    "#     elements = tot_stars* len(ts)*4\n",
    "#     arr_star = np.zeros(elements).reshape(tot_stars, len(ts), 4)\n",
    "    \n",
    "    \n",
    "#     # update [x,y,vx,vy] of stars for 0th and 1st time step\n",
    "#     for  k in np.arange(1, len(particles)+1,1): #skipping first row of galaxy\n",
    "#         pos = particles[k][:2] #[x*, y*]\n",
    "#         vel = particles[k][2:]\n",
    "#         xs, ys = pos[0], pos[1]\n",
    "#         vxs, vys = vel[0], vel[1]\n",
    "        \n",
    "#         #pepare input arrays for acceleration function 'f3'\n",
    "#         rs = [xs, ys, r_g[0], r_g[1],r_g[2], r_g[3]]\n",
    "#         ris = [xs, ys, ri_g[0], ri_g[1],ri_g[2], ri_g[3]]\n",
    "\n",
    "#         # update pos and vel of stars\n",
    "#         ri_s = pos + h*vel + 0.5*f(rs)*h**2\n",
    "#         vi_s = vel + 0.5*h*(f(rs) + f(ris))\n",
    "        \n",
    "#         arr_star[k][0] = np.array([xs, ys, vxs, vys])\n",
    "#         arr_star[k][1] = np.array([ri_s[0], ri_s[0], vi_s[0], vi_s[1]])\n",
    "        \n",
    "        \n",
    "#     # Iterations for LEAPFROG Integrations\n",
    "#     for step in np.arange(2, len(ts),1):\n",
    "        \n",
    "#         # update the galaxies\n",
    "#         ri_g = r_g +  h*vi_g + 0.5*f2(r_g)*h**2\n",
    "#         vi_g = vi_g + 0.5*h*(f(r_g) + f(ri_g))\n",
    "        \n",
    "            \n",
    "#         for  k in np.arange(1, len(particles)+1,1): #skipping first row of galaxy\n",
    "#             pos = arr_star[k][step-1][:2]  #[x*, y*] for k^th particle at prev time step\n",
    "#             vel = particles[k][step-1][2:] #[vx*,vy*]\n",
    "#             xs, ys = pos[0], pos[1]\n",
    "#             vxs, vys = vel[0], vel[1]\n",
    "#             #pepare input arrays for acceleration function 'f3'\n",
    "#             rs = [xs, ys, r_g[0], r_g[1],r_g[2], r_g[3]]\n",
    "#             ris = [xs, ys, ri_g[0], ri_g[1],ri_g[2], ri_g[3]]\n",
    "\n",
    "#             # update pos and vel of stars\n",
    "#             ri_s = pos + h*vel + 0.5*f(rs)*h**2\n",
    "#             vi_s = vel + 0.5*h*(f(rs) + f(ris))\n",
    "\n",
    "#             arr_star[k][0] = np.array([xs, ys, vxs, vys])\n",
    "#             arr_star[k][1] = np.array([ri_s[0], ri_s[0], vi_s[0], vi_s[1]])\n",
    "        \n",
    "\n",
    "       \n",
    "\n",
    "#         r_g = ri_g\n",
    "#         Ei = get_energy(r_g, vi_g)\n",
    "#         rel_err = get_err(E_ref, Ei)\n",
    "        \n",
    "\n",
    "#         # save t, r, phi_mid\n",
    "#         t = np.append(t, ti)\n",
    "#         R_g = np.append(R_g, np.array([r_g]), axis=0)\n",
    "#         V_g = np.append(V_g, np.array([vi_g]), axis=0)\n",
    "#         err = np.append(err, rel_err) # relative error\n",
    "#         E = np.append(E, Ei)"
   ]
  }
 ],
 "metadata": {
  "kernelspec": {
   "display_name": "UFRC Python-3.8",
   "language": "python",
   "name": "python3-3.8-ufrc"
  },
  "language_info": {
   "codemirror_mode": {
    "name": "ipython",
    "version": 3
   },
   "file_extension": ".py",
   "mimetype": "text/x-python",
   "name": "python",
   "nbconvert_exporter": "python",
   "pygments_lexer": "ipython3",
   "version": "3.8.5"
  }
 },
 "nbformat": 4,
 "nbformat_minor": 4
}
