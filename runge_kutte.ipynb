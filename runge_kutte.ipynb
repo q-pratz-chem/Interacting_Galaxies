{
 "cells": [
  {
   "cell_type": "code",
   "execution_count": 1,
   "metadata": {},
   "outputs": [],
   "source": [
    "# import packages\n",
    "import numpy as np\n",
    "import math\n",
    "import matplotlib.pyplot as plt\n",
    "\n",
    "import astropy.units as u\n",
    "import astropy.constants as const\n",
    "\n",
    "# from orbvel import f\n",
    "# from rungekutte import rk4\n",
    "# from config import *"
   ]
  },
  {
   "cell_type": "markdown",
   "metadata": {},
   "source": [
    "## Two-body dynamics: setting up Runge-Kutte method"
   ]
  },
  {
   "cell_type": "code",
   "execution_count": 2,
   "metadata": {},
   "outputs": [],
   "source": [
    "def f(rs, **kwargs):\n",
    "    \"\"\"\n",
    "    Evaluate the second derivative of the position vector in 2D.\n",
    "    \n",
    "    Inputs:  array with x-, y- components of the position vector\n",
    "    Returns: array of x-,y- components of acceleration \n",
    "             evaluated at these points\n",
    "    \"\"\"\n",
    "        \n",
    "    # position of mass1, mass2    \n",
    "    x1, y1 = rs[0], rs[1]  \n",
    "    x2, y2 = rs[2], rs[3] \n",
    "    r = np.sqrt((x2 - x1)**2 + (y2 - y1)**2)\n",
    "    \n",
    "    # x, y components of Acceleration a(t) = x''(t), which is also v'(t)\n",
    "    ax1 = G*m2*(x2 - x1)/r**3    \n",
    "    ay1 = G*m2*(y2 - y1)/r**3    \n",
    "    ax2 = G*m1*(x1 - x2)/r**3    \n",
    "    ay2 = G*m1*(y1 - y2)/r**3    \n",
    "    \n",
    "    return np.array([ax1, ay1, ax2, ay2], float)\n"
   ]
  },
  {
   "cell_type": "code",
   "execution_count": 71,
   "metadata": {},
   "outputs": [],
   "source": [
    "def get_f(r, f):\n",
    "    \"\"\"\n",
    "    Calculate updated x, y, vx, vy for each particle using a function \n",
    "        f(x,y,t) = v'(t)\n",
    "    \n",
    "    Inputs:\n",
    "        r, 1-D array [x1,y1,x2,y2,vx1, vy1, vx2, vy2]\n",
    "        \n",
    "    Returns:\n",
    "        fxy, 1-D array v(t), f(x,y,t)\n",
    "        \n",
    "    \"\"\"\n",
    "    \n",
    "    x1, y1 = r[0], r[1]\n",
    "    vx1, vy1 = r[4], r[5]\n",
    "    x2, y2 = r[2], r[3]\n",
    "    vx2, vy2 = r[6], r[7]\n",
    "    \n",
    "    fxy = np.array([vx1, vy1, vx2, vy2])\n",
    "    fv = f(np.array([x1, y1, x2, y2]))\n",
    "    \n",
    "    return np.array(np.concatenate([fxy, fv]))\n",
    "    "
   ]
  },
  {
   "cell_type": "code",
   "execution_count": 85,
   "metadata": {},
   "outputs": [],
   "source": [
    "def rk4(t0, tmax, r0, v0, f, h, err_tol, r_ref):\n",
    "    \"\"\"\n",
    "    Calculate orbit of a body about center of mass using 4th-order Runge-Kutte\n",
    "    method.\n",
    "    \n",
    "    Inputs:\n",
    "      t0, tmax: start, end time of simulation, Myr\n",
    "      r0: initial position of second body, kpc\n",
    "      v0: initial velocity (in +y direction) of second body, kpc/Myr\n",
    "      f: function for getting vx', vy'\n",
    "      h: time interval\n",
    "      err_tol: amount of allowed deviation from r_ref\n",
    "      r_ref: expected value for r2\n",
    "    \n",
    "    Returns:\n",
    "      R: 2-D array of x1,y1,x2,y2 coordinates at each step\n",
    "      err: relative error of path compared to circle/ellipse/etc.\n",
    "      \n",
    "    \"\"\"\n",
    "    \n",
    "    # Initialize arrays for time, position vector, & velocity vector\n",
    "    ti = t0\n",
    "    t = np.array(ti)\n",
    "    # mass 1 starts at point of furthest separation\n",
    "    x1 = r0  # kpc\n",
    "    y1 = 0   # kpc\n",
    "    vx1 = 0\n",
    "    vy1 = v0\n",
    "    # use center of mass m1x1 = m2x2 to get position, vel of mass 2\n",
    "    x2 = -(m1/m2)*r0\n",
    "    y2 = 0\n",
    "    vx2 = 0\n",
    "    vy2 = -(m1/m2)*v0\n",
    "     \n",
    "    print(f\"initial R: {[x1, y1, x2, y2]}, f(R) = {f(np.array([x1, y1, x2, y2]))}\")\n",
    "    # initialize arrays of positions at each step\n",
    "    ri = np.array([x1, y1, x2, y2], float)\n",
    "    \n",
    "    # initialize arrays of velocities at each step\n",
    "    vinit = np.array([vx1, vy1, vx2, vy2], float)\n",
    "    vi = vinit\n",
    "    v_ = np.array([vi]) # Initial vx, vy\n",
    "    \n",
    "    # initialize position-velocity mega-vector\n",
    "    r = np.concatenate([ri,vi])\n",
    "    R = np.array([r])\n",
    "    \n",
    "    \n",
    "    debug = False\n",
    "    \n",
    "    # Initialize steps for error check for circular orbit\n",
    "    r_check = np.sqrt(r[0]**2 + r[1]**2)  # current radius, r\n",
    "    rel_err = (r_ref - r_check)/r_ref\n",
    "    print(f\"init err: {rel_err}\")\n",
    "    err = np.array([rel_err])\n",
    "    \n",
    "    # solve eqns of motion using R-K method\n",
    "    while np.abs(rel_err) < err_tol:\n",
    "        # break if t = tmax\n",
    "        if ti > tmax:\n",
    "            if debug: print(f\"Time: {ti} > {tmax}\")\n",
    "            break\n",
    "        else:\n",
    "            # calculate r(t), r'(t)\n",
    "            \n",
    "            # compute k1, k2, k3, k4 for r\n",
    "            k1  = h*get_f(r, f)\n",
    "            k2 = h*get_f(r + k1*0.5, f) \n",
    "            k3 = h*get_f(r + k2*0.5, f) \n",
    "            k4 = h*get_f(r + k3, f)  \n",
    "\n",
    "            # update ti, Ri\n",
    "            ti += h\n",
    "            r += (1/6)*(k1 + 2*k2 + 2*k3 + k4)\n",
    "\n",
    "            # calculate new rel error\n",
    "            r_check = np.sqrt(r[0]**2 + r[1]**2)  # current radius, r\n",
    "            rel_err = (r_ref - r_check)/r_ref\n",
    "            if debug: print(f\"{ti} {r_check} {rel_err}\")\n",
    "\n",
    "            # save new ri to r\n",
    "            t = np.append(t, ti)\n",
    "            R = np.append(R, np.array([r]), axis=0)\n",
    "            err = np.append(err, rel_err) # relative error\n",
    "            \n",
    "    # components of cartesian coords\n",
    "    # R: [x1, x2, y1, y2]\n",
    "    X = R[:,[0,2]]  # x1, x2\n",
    "    Y = R[:,[1,3]]  # y1, y2\n",
    "    return t, X, Y, err # v_ , err\n"
   ]
  },
  {
   "cell_type": "code",
   "execution_count": 96,
   "metadata": {},
   "outputs": [],
   "source": [
    "# runtime initial conditions\n",
    "t0, tmax = 0, 5000\n",
    "h = 1 # 1e-3 Myr\n",
    "\n",
    "\n",
    "# UNITS: kpc, Msun, Myr\n",
    "# constants\n",
    "G = (const.G).to(u.kpc**3 * u.Msun**-1 * u.Myr**-2).value # kpc^3/Msun/Myr\n",
    "\n",
    "# orbit parameters\n",
    "m1 = 1e12 # Msun\n",
    "m2 = 1e12 # Msun\n",
    "M = m1 + m2\n",
    "\n",
    "# can get a = (G*M*T**2/(4*np.pi**2))**(1/3)\n",
    "a = 100    # semi-major axis (kpc, Kepler's Law)\n",
    "ecc = 1e-12 # 0.5\n",
    "p = a*(1 - ecc**2)   # semi-latus rectum (kpc)\n",
    "\n",
    "# starting position of second galaxy \n",
    "r0 = (m2/M)*a   #for circular orbit\n",
    "    \n",
    "# starting velocity of the second galaxy\n",
    "v0 = np.sqrt(G*m2/a)*np.sqrt((m2*(1-ecc**2))/M)\n",
    "\n",
    "# make sure r is close to analytic value over time\n",
    "err_tol = 1e-5  # allowable error "
   ]
  },
  {
   "cell_type": "code",
   "execution_count": 97,
   "metadata": {},
   "outputs": [
    {
     "name": "stdout",
     "output_type": "stream",
     "text": [
      "initial R: [50.0, 0, -50.0, 0], f(R) = [-0.00044985  0.          0.00044985  0.        ]\n",
      "init err: 0.0\n"
     ]
    }
   ],
   "source": [
    "t, X, Y, err = rk4(t0, tmax, r0, v0, f, h, err_tol, r0)"
   ]
  },
  {
   "cell_type": "code",
   "execution_count": 98,
   "metadata": {},
   "outputs": [
    {
     "name": "stdout",
     "output_type": "stream",
     "text": [
      "cumulative error over 5001 Myr: 6.2861e-09 kpc\n"
     ]
    },
    {
     "data": {
      "image/png": "[encoded data removed]",
      "text/plain": [
       "<Figure size 864x216 with 2 Axes>"
      ]
     },
     "metadata": {
      "needs_background": "light"
     },
     "output_type": "display_data"
    }
   ],
   "source": [
    "fig = plt.figure(figsize=(12,3))\n",
    "ax1 = fig.add_subplot(121, aspect='equal')\n",
    "ax1.scatter(X[:,0], Y[:,0], label=\"m1\")\n",
    "ax1.scatter(X[:,1], Y[:,1], s=1, label=\"m2\")\n",
    "ax1.set_xlabel(\"x [kpc]\"), ax1.set_ylabel(\"y [kpc]\")\n",
    "plt.legend()\n",
    "\n",
    "ax2 = fig.add_subplot(122,aspect='auto')\n",
    "ax2.scatter(t, err, s=1)\n",
    "ax2.set_ylim(err_tol*np.array([-1,1]))\n",
    "ax2.set_xlabel(\"time [Myr]\"), ax2.set_ylabel(\"relative error\")\n",
    "print(f\"cumulative error over {t[-1]} Myr: {sum(err):.6} kpc\")"
   ]
  }
 ],
 "metadata": {
  "kernelspec": {
   "display_name": "UFRC Python-3.8",
   "language": "python",
   "name": "python3-3.8-ufrc"
  },
  "language_info": {
   "codemirror_mode": {
    "name": "ipython",
    "version": 3
   },
   "file_extension": ".py",
   "mimetype": "text/x-python",
   "name": "python",
   "nbconvert_exporter": "python",
   "pygments_lexer": "ipython3",
   "version": "3.8.5"
  }
 },
 "nbformat": 4,
 "nbformat_minor": 4
}
