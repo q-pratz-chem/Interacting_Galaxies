{
 "cells": [
  {
   "cell_type": "code",
   "execution_count": 1,
   "metadata": {},
   "outputs": [],
   "source": [
    "import numpy as np\n",
    "import math\n",
    "import matplotlib.pyplot as plt\n",
    "\n",
    "import astropy.units as u\n",
    "import astropy.constants as const\n"
   ]
  },
  {
   "cell_type": "code",
   "execution_count": 39,
   "metadata": {},
   "outputs": [],
   "source": [
    "rmin = 25 \n",
    "\n",
    "ring_spacing = np.array([0.2, 0.3, 0.4, 0.5, 0.6]) \n",
    "# np.array([0.12, 0.18, 0.24, 0.3, 0.36]) # alt ring spacing\n",
    "\n",
    "n_particles = np.array([12,18,24,30,36]) # number of particles per ring\n",
    "\n",
    "rings_r = ring_spacing*rmin # radius of each ring from center of galaxy\n",
    "rings_phi = 2*np.pi / n_particles  # angular position of each particle\n",
    "\n",
    "# initial position, velocity of galaxy wrt center of mass\n",
    "gx0, gy0 = 0, 0\n",
    "gvx0, gvy0 = 0, 0\n",
    "galaxy_coords = np.array([gx0, gy0, gvx0, gvy0])\n",
    "particles = np.array([galaxy_coords])\n",
    "\n",
    "# make evenly spaced rings of N particles per ring\n",
    "for i in range(len(rings_r)):\n",
    "    # r, phi coordinates for each particle\n",
    "    phis = np.arange(0,2*np.pi,rings_phi[i])\n",
    "    rs = np.ones(n_particles[i]) * rings_r[i]\n",
    "    \n",
    "    # convert to cartesian coordinates\n",
    "    xs = rs * np.cos(phis)\n",
    "    ys = rs * np.sin(phis)\n",
    "    vxs = np.zeros(len(xs))\n",
    "    vys = np.zeros(len(xs))\n",
    "    \n",
    "    # add row of x, y, vx, vy for each particle in ring\n",
    "    ring_particles = np.concatenate(np.array([list(zip(xs, ys, vxs, vys))]),axis=0)\n",
    "    \n",
    "    # add to collection of galaxy particles\n",
    "    particles = np.append(particles, ring_particles, axis=0)\n"
   ]
  },
  {
   "cell_type": "code",
   "execution_count": null,
   "metadata": {},
   "outputs": [],
   "source": []
  }
 ],
 "metadata": {
  "kernelspec": {
   "display_name": "UFRC Python-3.8",
   "language": "python",
   "name": "python3-3.8-ufrc"
  },
  "language_info": {
   "codemirror_mode": {
    "name": "ipython",
    "version": 3
   },
   "file_extension": ".py",
   "mimetype": "text/x-python",
   "name": "python",
   "nbconvert_exporter": "python",
   "pygments_lexer": "ipython3",
   "version": "3.8.5"
  }
 },
 "nbformat": 4,
 "nbformat_minor": 4
}
