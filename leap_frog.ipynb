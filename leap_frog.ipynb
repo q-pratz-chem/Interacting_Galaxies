{
 "cells": [
  {
   "cell_type": "code",
   "execution_count": 1,
   "metadata": {},
   "outputs": [],
   "source": [
    "import numpy as np\n",
    "import math\n",
    "import matplotlib.pyplot as plt\n",
    "\n",
    "import astropy.units as u\n",
    "import astropy.constants as const\n"
   ]
  },
  {
   "cell_type": "markdown",
   "metadata": {},
   "source": [
    "#### Steps in **Leapfrog** method:\n",
    "1. INPUT: $ \\quad r_0$  \n",
    "2. $\\phi_0 = - \\bigg(\\frac{p/r_0 - 1}{e} \\bigg)$, where $e$ is eccentricity.  \n",
    "3.$x_0 = r cos(\\phi_0), \\quad y_0 = r sin(\\phi_0)$\n",
    "4. INPUT:  \n",
    "$ \\quad v(t): \\quad v_{x_0}, v_{y_0}$  \n",
    "5. Get $v_{x_{mid}}, v_{y_{mid}}\\quad $  using  \n",
    "$\\quad v_{mid} = v\\bigg(t+ \\frac{h}{2}\\bigg)= v_0 + \\frac{h}{2}f(x_0, y_0),$      \n",
    "where $\\quad f(x_0, y_0) = \\frac{GM}{{r_0}^3}x_0, \\frac{GM}{r_0^3}y_0, \\quad $ $r_0 = \\sqrt{(x_0^2 + y_0^2)}$\n",
    "\n",
    "6. $x(t) = x_0, \\quad y(t) = y_0$\n",
    "7. UPDATE steps: \n",
    "\n",
    "     **for $k^{th}$ iteration** -->       \n",
    "$\\quad x(t+kh) = x_{k-1} + hv\\bigg(x_{k-1}, t+ \\bigg(k-\\frac{1}{2}\\bigg)h\\bigg), \\\\ \\quad y(t+kh) = y_{k-1} + hv\\bigg(y_{k-1}, t+ \\bigg(k-\\frac{1}{2}\\bigg)h\\bigg)$\n",
    "\n",
    "$\\quad v_x\\bigg(t+ \\bigg(k+\\frac{1}{2}\\bigg)h\\bigg) = v_x\\bigg(t+ \\bigg(k-\\frac{1}{2}\\bigg)h\\bigg) + hf\\bigg(x (t+kh), y(t+kh)\\bigg), \\\\ v_y\\bigg(t+ \\bigg(k+\\frac{1}{2}\\bigg)h\\bigg) = v_y\\bigg(t+ \\bigg(k-\\frac{1}{2}\\bigg)h\\bigg) + hf\\bigg(x (t+kh), y(t+kh)\\bigg)$\n",
    "\n",
    "\n"
   ]
  },
  {
   "cell_type": "code",
   "execution_count": 2,
   "metadata": {},
   "outputs": [],
   "source": [
    "## Two-body dynamics: setting up Leapfrog method"
   ]
  },
  {
   "cell_type": "code",
   "execution_count": 3,
   "metadata": {},
   "outputs": [],
   "source": [
    "def f(rs, **kwargs):\n",
    "    \"\"\"\n",
    "    Evaluate the second derivative of the position vector in 2D.\n",
    "    \n",
    "    Inputs:  array with x-, y- components of the position vector\n",
    "    Returns: array of x-,y- components of acceleration \n",
    "             evaluated at these points\n",
    "    \"\"\"\n",
    "    # position of mass1, mass2    \n",
    "    x1, y1 = rs[0], rs[1]  \n",
    "    x2, y2 = rs[2], rs[3] \n",
    "    r = np.sqrt((x2 - x1)**2 + (y2 - y1)**2)\n",
    "    \n",
    "    # x, y components of Acceleration 'a'\n",
    "    ax1 = G*m2*(x2 - x1)/r**3    \n",
    "    ay1 = G*m2*(y2 - y1)/r**3    \n",
    "    ax2 = G*m1*(x1 - x2)/r**3    \n",
    "    ay2 = G*m1*(y1 - y2)/r**3    \n",
    "    \n",
    "    return np.array([ax1, ay1, ax2, ay2], float)\n",
    "    "
   ]
  },
  {
   "cell_type": "code",
   "execution_count": 4,
   "metadata": {},
   "outputs": [],
   "source": [
    "def leapfrog(t0, tmax, r0, v0, h, f, r_ref, err_tol,  **kwargs):\n",
    "    \"\"\"                                                                                                                      \n",
    "    Calculate a soln x(t) to a 1st-order ODE of the form x'(t)=f(x,t).                                                 \n",
    "                                                                                                                             \n",
    "    Uses the leapfrog method.                                                                                \n",
    "    Inputs: \n",
    "    t0 & tmax (Init & final time) \n",
    "    r0 (Init pos of m2)\n",
    "    vx0 & vy0 (Init x- & y- components of velocity)\n",
    "    h (step size)\n",
    "    f (function to obtain derivatives: dr, dphi)\n",
    "    r_ref: expected value for r\n",
    "    err_tol: amount of allowed deviation from r_ref\n",
    "    Returns: t and x (both arrays of size N=#steps)                                                                          \n",
    "    \"\"\"\n",
    "    \n",
    "    debug = False\n",
    "    q = m1/m2\n",
    "    \n",
    "    # Initialize arrays for time, position vector, & velocity vector\n",
    "    ti = t0\n",
    "    t = np.array(ti)\n",
    "    \n",
    "    x1 = r0\n",
    "    y1 = 0\n",
    "    x2 = -q*r0\n",
    "    y2 = 0\n",
    "    vx1 = 0\n",
    "    vy1 = v0\n",
    "    \n",
    "    vx2 = 0\n",
    "    vy2 = -q*v0\n",
    "    \n",
    "    # initialize arrays of positions at each step\n",
    "    r = np.array([x1, y1, x2, y2], float)\n",
    "    R = np.array([r])\n",
    "    \n",
    "    # initialize arrays of velocities at each step\n",
    "    vinit = np.array([vx1, vy1, vx2, vy2], float)\n",
    "    v_ = np.array([vinit]) # Initial vx, vy\n",
    "\n",
    "    # Initialize ti, v_mid\n",
    "    ts = np.arange(t0, tmax+h, h)\n",
    "    v_mid = vinit + 0.5*h*f(r) # vinit \n",
    "    \n",
    "    # Append initial v_mid\n",
    "    v_ = np.append(v_, np.array([v_mid]), axis=0)\n",
    "    \n",
    "    # Initialize steps for error check for circular orbit\n",
    "    r_check = np.sqrt(r[0]**2 + r[1]**2)  # current radius, r\n",
    "    rel_err = (r_ref - r_check)/r_ref\n",
    "    print(f\"init err: {rel_err}\")\n",
    "    err = np.array([rel_err])\n",
    "    \n",
    "    # solve eqns of motion using leapfrog method\n",
    "    while np.abs(rel_err) < err_tol:\n",
    "        # break if t = tmax\n",
    "        if ti > tmax:\n",
    "            if debug: print(f\"Time: {ti} > {tmax}\")\n",
    "            break\n",
    "        else:\n",
    "            # calculate r(t), r'(t)\n",
    "            if debug: print(ti, r, np.abs(r_check - r_ref))\n",
    "            # update t, r, v_mid\n",
    "            ti += h\n",
    "            r += h*v_mid\n",
    "            v_mid += h*f(r) \n",
    "\n",
    "            # calculate new rel error\n",
    "            r_check = np.sqrt(r[0]**2 + r[1]**2)  # current radius, r\n",
    "            rel_err = (r_ref - r_check)/r_ref\n",
    "\n",
    "            # save t, r, phi_mid\n",
    "            t = np.append(t, ti)\n",
    "            R = np.append(R, np.array([r]), axis=0)\n",
    "            v_ = np.append(v_, np.array([v_mid]), axis=0)\n",
    "            err = np.append(err, rel_err) # relative error\n",
    "    \n",
    "    # components of cartesian coords\n",
    "    # R: [x1, x2, y1, y2]\n",
    "    X = R[:,[0,2]]  # x1, x2\n",
    "    Y = R[:,[1,3]]  # y1, y2\n",
    "    return t, X, Y, v_ , err\n"
   ]
  },
  {
   "cell_type": "code",
   "execution_count": 5,
   "metadata": {},
   "outputs": [],
   "source": [
    "# UNITS: kpc, Msun, Myr\n",
    "# constants\n",
    "G = (const.G).to(u.kpc**3 * u.Msun**-1 * u.Myr**-2).value # kpc^3/Msun/Myr\n",
    "\n",
    "# orbit parameters\n",
    "m1 = 1e12 # Msun\n",
    "m2 = 1e12 # Msun\n",
    "M = m1 + m2\n",
    "m_rest = m1\n",
    "\n",
    "a = 100 # (G*M*T**2/(4*np.pi**2))**(1/3)   # semi-major axis (kpc, Kepler's Law)\n",
    "ecc =  1e-12 #0.05 #1e-12 # 0.5\n",
    "p = a*(1 - ecc**2)   # semi-latus rectum (kpc)\n",
    "\n",
    "# runtime initial conditions\n",
    "t0, tmax = 0, 5000\n",
    "h = 1 # 1e-3\n",
    "\n",
    "# starting position of second galaxy \n",
    "r0 = m2*a/M #p   #for circular orbit\n",
    "#phi0 = -np.arccos((p - r0)/(r0*ecc))\n",
    "    \n",
    "# starting velocity of the second galaxy\n",
    "#v0 = v_init(r0, phi0)\n",
    "v0 = np.sqrt(G*m2/a)*np.sqrt((m2*(1-ecc**2))/M)\n",
    "#vx0, vy0 = v0[0],v0[1]\n",
    "\n",
    "# make sure r is close to analytic value over time\n",
    "err_tol = 1e-5  # allowable error \n"
   ]
  },
  {
   "cell_type": "code",
   "execution_count": 6,
   "metadata": {},
   "outputs": [
    {
     "name": "stdout",
     "output_type": "stream",
     "text": [
      "init err: 0.0\n"
     ]
    }
   ],
   "source": [
    "# leapfrog(t0, tmax, r0, v0, h, f, r_ref, err_tol, **kwargs)\n",
    "t, X, Y, v_, err =  leapfrog(t0, tmax, r0, v0, h, f, r0, err_tol)"
   ]
  },
  {
   "cell_type": "code",
   "execution_count": 16,
   "metadata": {},
   "outputs": [
    {
     "name": "stdout",
     "output_type": "stream",
     "text": [
      "cumulative error over 5001 Myr: -0.0107631 kpc\n"
     ]
    },
    {
     "data": {
      "image/png": "[encoded data removed]",
      "text/plain": [
       "<Figure size 864x216 with 2 Axes>"
      ]
     },
     "metadata": {
      "needs_background": "light"
     },
     "output_type": "display_data"
    }
   ],
   "source": [
    "fig = plt.figure(figsize=(12,3))\n",
    "ax1 = fig.add_subplot(121, aspect='equal')\n",
    "ax1.plot(X[:,0], Y[:,0], label=\"m1\")\n",
    "ax1.plot(X[:,1], Y[:,1], label=\"m2\")\n",
    "ax1.set_xlabel(\"x [kpc]\"), ax1.set_ylabel(\"y [kpc]\")\n",
    "\n",
    "ax2 = fig.add_subplot(122,aspect='auto')\n",
    "ax2.scatter(t, err, s=1)\n",
    "ax2.set_ylim(err_tol*np.array([-1,1]))\n",
    "ax2.set_xlabel(\"time [Myr]\"), ax3.set_ylabel(\"relative error\")\n",
    "print(f\"cumulative error over {t[-1]} Myr: {sum(err):.6} kpc\")"
   ]
  },
  {
   "cell_type": "code",
   "execution_count": 8,
   "metadata": {},
   "outputs": [
    {
     "data": {
      "image/png": "[encoded data removed]",
      "text/plain": [
       "<Figure size 432x288 with 1 Axes>"
      ]
     },
     "metadata": {
      "needs_background": "light"
     },
     "output_type": "display_data"
    }
   ],
   "source": [
    "# plt.plot(ts, v_[:,0], label=\"r'(t)\") # dq/dt\n",
    "# plt.plot(ts, v_[:,1] - v_[0,-1], label=r\"$\\phi'(t)$ residual\") # dq/dt\n",
    "plt.plot(v_[:,0], v_[:,1])\n",
    "plt.plot(v_[:,2], v_[:,3])\n",
    "plt.show()\n",
    "\n"
   ]
  },
  {
   "cell_type": "code",
   "execution_count": null,
   "metadata": {},
   "outputs": [],
   "source": []
  },
  {
   "cell_type": "code",
   "execution_count": null,
   "metadata": {},
   "outputs": [],
   "source": []
  }
 ],
 "metadata": {
  "kernelspec": {
   "display_name": "UFRC Python-3.8",
   "language": "python",
   "name": "python3-3.8-ufrc"
  },
  "language_info": {
   "codemirror_mode": {
    "name": "ipython",
    "version": 3
   },
   "file_extension": ".py",
   "mimetype": "text/x-python",
   "name": "python",
   "nbconvert_exporter": "python",
   "pygments_lexer": "ipython3",
   "version": "3.8.5"
  }
 },
 "nbformat": 4,
 "nbformat_minor": 4
}
