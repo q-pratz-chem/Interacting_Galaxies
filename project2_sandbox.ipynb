{
 "cells": [
  {
   "cell_type": "code",
   "execution_count": 1,
   "metadata": {},
   "outputs": [],
   "source": [
    "# import packages\n",
    "import numpy as np\n",
    "import math\n",
    "import matplotlib.pyplot as plt\n",
    "\n",
    "import astropy.units as u\n",
    "import astropy.constants as const\n",
    "\n",
    "from orbvel import *"
   ]
  },
  {
   "cell_type": "code",
   "execution_count": 2,
   "metadata": {},
   "outputs": [],
   "source": [
    "# constants\n",
    "G = 6.674e-11  # m^3/kg/s^2\n",
    "\n",
    "# orbit parameters\n",
    "m0 = 2.3868e42 # kg\n",
    "m1 = 2.3868e42 # kg\n",
    "M = m0 + m1\n",
    "T = 1e13       # sec \n",
    "a = (G*M*T**2/(4*np.pi**2))**(1/3)   # semi-major axis (m, Kepler's Law)\n",
    "ecc = 0.5 # 1e-6\n",
    "p = a*(1 - ecc**2)   # semi-latus rectum (m)\n",
    "\n",
    "# orbit initial conditions\n",
    "t0, tmax = 0, 1000\n",
    "r0 = p*1.5\n",
    "phi0 = -np.arccos((p - r0)/(r0*ecc))\n",
    "h = 0.01"
   ]
  },
  {
   "cell_type": "code",
   "execution_count": 3,
   "metadata": {},
   "outputs": [
    {
     "data": {
      "text/plain": [
       "array([-1.15217241e-15,  1.96780674e-34])"
      ]
     },
     "execution_count": 3,
     "metadata": {},
     "output_type": "execute_result"
    }
   ],
   "source": [
    "# test using orbvel.py to get r', phi'\n",
    "f(np.array([r0, phi0]), G=G, p=p, e=ecc)"
   ]
  },
  {
   "cell_type": "code",
   "execution_count": null,
   "metadata": {},
   "outputs": [],
   "source": []
  },
  {
   "cell_type": "code",
   "execution_count": null,
   "metadata": {},
   "outputs": [],
   "source": []
  }
 ],
 "metadata": {
  "kernelspec": {
   "display_name": "UFRC Python-3.8",
   "language": "python",
   "name": "python3-3.8-ufrc"
  },
  "language_info": {
   "codemirror_mode": {
    "name": "ipython",
    "version": 3
   },
   "file_extension": ".py",
   "mimetype": "text/x-python",
   "name": "python",
   "nbconvert_exporter": "python",
   "pygments_lexer": "ipython3",
   "version": "3.8.5"
  }
 },
 "nbformat": 4,
 "nbformat_minor": 4
}
