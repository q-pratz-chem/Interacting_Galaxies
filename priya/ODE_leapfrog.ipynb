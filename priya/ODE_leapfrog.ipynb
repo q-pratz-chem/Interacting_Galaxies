{
 "cells": [
  {
   "cell_type": "code",
   "execution_count": 6,
   "metadata": {},
   "outputs": [],
   "source": [
    "import numpy as np"
   ]
  },
  {
   "cell_type": "code",
   "execution_count": 1,
   "metadata": {},
   "outputs": [],
   "source": [
    "## Two-body dynamics: setting up Leapfrog method"
   ]
  },
  {
   "cell_type": "code",
   "execution_count": 2,
   "metadata": {},
   "outputs": [],
   "source": [
    "def f(r, **kwargs):\n",
    "    \"\"\"\n",
    "    Function defining system of eqns of motion for a pendulum\n",
    "    \n",
    "    Inputs: r -- 2D vector w/ elems theta (angle) \n",
    "                 and omega (angular velocity)\n",
    "    Returns: 2D array of functions f(theta) and f(omega) \n",
    "             evaluated at these points\n",
    "    \"\"\"\n",
    "    \n",
    "    r, phi = r[0], r[1]\n",
    "    \n",
    "    \n",
    "    fphi = np.sqrt(G*M*p)/r**2 \n",
    "    fr = e*r**2*np.sin(th)*fphi/p\n",
    "    \n",
    "    return np.array([fr, fphi], float)\n",
    "    "
   ]
  },
  {
   "cell_type": "code",
   "execution_count": 3,
   "metadata": {},
   "outputs": [],
   "source": [
    "def leapfrog(f, t0, tmax, h, **kwargs):\n",
    "    \"\"\"                                                                                                                      \n",
    "    Calculate a soln x(t) to a 1st-order ODE of the form x'(t)=f(x,t).                                                 \n",
    "                                                                                                                             \n",
    "    Uses the leapfrog method.                                                                                \n",
    "    Inputs: t0 & tmax (Init & final time), x0 (=x(t0)), h (step size)                                                       \n",
    "    Returns: t and x (both arrays of size N=#steps)                                                                          \n",
    "    \"\"\"\n",
    "    # get keyword arguments or set to default values\n",
    "    r0 = kwargs.get('r0', 1)\n",
    "    phi0 = kwargs.get('phi0', 0)\n",
    "    \n",
    "    # define t, theta, and omega arrays\n",
    "    t = np.arange(t0,tmax+h,h)\n",
    "    r_arr = ncp.array([r0])\n",
    "    phi_mid_arr = np.array([phi0])\n",
    "\n",
    "    r = r0\n",
    "    phi_mid = phi0 + 0.5*h*f(r0)\n",
    "    #######################################\n",
    "\n",
    "\n",
    "    # solve eqns of motion using leapfrog method\n",
    "    for ti in t[1:]:\n",
    "\n",
    "        r_arr = np.append(r_arr, r)\n",
    "        phi_mid_arr = np.append(phi_mid_arr, phi_mid)\n",
    "\n",
    "        r = r + h*phi_mid\n",
    "        phi_mid = phi_mid + h*f(r)\n",
    " \n",
    "    return t,r_arr, phi_mid_arr\n"
   ]
  },
  {
   "cell_type": "markdown",
   "metadata": {},
   "source": [
    "\n",
    "$$\\begin{split}\n",
    "solar mass &= 1.989*10^{30}  kg \\\\ \n",
    "G &= 6.674 x 10^{-11}m^3kg^{-1}s^{-2},\\\\\n",
    "M &= 2.3868 x 10^{42} kg   (1.2*trillion*solar mass), \\\\\n",
    "\\end{split}$$"
   ]
  },
  {
   "cell_type": "code",
   "execution_count": 19,
   "metadata": {},
   "outputs": [
    {
     "name": "stdout",
     "output_type": "stream",
     "text": [
      "15043610954.818314 20058147939.75775\n"
     ]
    }
   ],
   "source": [
    "# initial conditions\n",
    "G = 6.674e-11\n",
    "M = 2*2.3868e42\n",
    "T = 1\n",
    "a = (G*M*T**2/(4*np.pi**2))**(1/3)\n",
    "ecc = 0.5\n",
    "p = a*(1-ecc**2)\n",
    "print(p,a)"
   ]
  },
  {
   "cell_type": "code",
   "execution_count": 16,
   "metadata": {},
   "outputs": [
    {
     "name": "stderr",
     "output_type": "stream",
     "text": [
      "/scratch/local/24912981/ipykernel_24760/2146072958.py:3: RuntimeWarning: invalid value encountered in arccos\n",
      "  phi0 = -np.arccos((p-r0)/(r0*ecc))\n"
     ]
    }
   ],
   "source": [
    "t0, tmax = 0, 1000\n",
    "r0 = 1\n",
    "phi0 = -np.arccos((p-r0)/(r0*ecc))\n",
    "h = 0.01"
   ]
  },
  {
   "cell_type": "code",
   "execution_count": null,
   "metadata": {},
   "outputs": [],
   "source": []
  },
  {
   "cell_type": "code",
   "execution_count": null,
   "metadata": {},
   "outputs": [],
   "source": []
  }
 ],
 "metadata": {
  "kernelspec": {
   "display_name": "UFRC Python-3.8",
   "language": "python",
   "name": "python3-3.8-ufrc"
  },
  "language_info": {
   "codemirror_mode": {
    "name": "ipython",
    "version": 3
   },
   "file_extension": ".py",
   "mimetype": "text/x-python",
   "name": "python",
   "nbconvert_exporter": "python",
   "pygments_lexer": "ipython3",
   "version": "3.8.5"
  }
 },
 "nbformat": 4,
 "nbformat_minor": 4
}
